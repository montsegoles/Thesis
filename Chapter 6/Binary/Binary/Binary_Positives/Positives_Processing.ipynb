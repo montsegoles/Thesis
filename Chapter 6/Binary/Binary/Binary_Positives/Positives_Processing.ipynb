{
 "cells": [
  {
   "cell_type": "markdown",
   "source": [
    "Script for the processing of the positive data for the binary dataset.\n",
    "Originally developed by Julián García-Vinueza and Montserrat Goles. Edited and translated by Montserrat Goles."
   ],
   "metadata": {
    "collapsed": false
   },
   "id": "6cf67f7db9782abb"
  },
  {
   "cell_type": "code",
   "execution_count": 1,
   "id": "initial_id",
   "metadata": {
    "ExecuteTime": {
     "end_time": "2024-08-13T19:41:53.344079200Z",
     "start_time": "2024-08-13T19:41:51.819704Z"
    }
   },
   "outputs": [],
   "source": [
    "import pandas as pd\n",
    "import numpy as np\n",
    "import matplotlib.pyplot as plt\n",
    "import scipy.stats as stats"
   ]
  },
  {
   "cell_type": "markdown",
   "id": "67a0b9dd2c9f7a0",
   "metadata": {
    "collapsed": false
   },
   "source": [
    "Note that all datasets have UniProt id."
   ]
  },
  {
   "cell_type": "markdown",
   "id": "7b1bf7c9e1ada38",
   "metadata": {
    "collapsed": false
   },
   "source": [
    "First, we upload the files.\n",
    "The file `01_all_dataset_positive´ has all the all the filtered interacting protein pairs from the following databases:\n",
    "* Hippie\n",
    "* Mint\n",
    "* Signor\n",
    "This file was processed beforehand to remove repeated and null data."
   ]
  },
  {
   "cell_type": "markdown",
   "id": "b25e3a3fd036fb73",
   "metadata": {
    "collapsed": false
   },
   "source": [
    "Originally, the facilitated copy of the negatome database had some positive interactions. Here, this interactions are updated in order to check if their interaction data has duplicate, nulls, or if it is contained on the other dataset."
   ]
  },
  {
   "cell_type": "code",
   "execution_count": 2,
   "id": "ab8b642ae0bead86",
   "metadata": {
    "collapsed": false,
    "ExecuteTime": {
     "end_time": "2024-08-13T19:42:01.191126800Z",
     "start_time": "2024-08-13T19:42:01.131859900Z"
    }
   },
   "outputs": [],
   "source": [
    "df_pos_negatome = pd.read_csv(\"negatome_all_positives.csv\", sep=',')\n",
    "df_pos_negatome.columns = ['id_1', 'seq_1', 'id_2', 'seq_2']\n",
    "\n",
    "if (df_pos_negatome.isnull().values.any()) == True:\n",
    "    print(\"There is null data.\")\n",
    "\n",
    "#Adds a column with the label \"Negatome\"\n",
    "negatome = 'negatome'\n",
    "df_pos_negatome['dataset'] = negatome"
   ]
  },
  {
   "cell_type": "markdown",
   "id": "e87b956663efaa96",
   "metadata": {
    "collapsed": false
   },
   "source": [
    "Let's see if there is data that is repeated in order (change sides of the id)."
   ]
  },
  {
   "cell_type": "code",
   "execution_count": 3,
   "id": "11d902a49a744d34",
   "metadata": {
    "collapsed": false,
    "ExecuteTime": {
     "end_time": "2024-08-13T19:42:05.584249100Z",
     "start_time": "2024-08-13T19:42:05.551323200Z"
    }
   },
   "outputs": [
    {
     "name": "stdout",
     "output_type": "stream",
     "text": [
      "No duplicate interactions found.\n"
     ]
    },
    {
     "data": {
      "text/plain": "        id_1                                              seq_1    id_2  \\\n0     P01887  IQKTPQIQVYSRHPPENGKPNILNCYVTQFHPPHIEIQMLKNGKKI...  P11609   \n2     P01892  MIQRTPKIQVYSRHPAENGKSNFLNCYVSGFHPSDIEVDLLKNGER...  P61769   \n3     P00127  VTDQLEDLREHFKNTEEGKALVHHYEECAERVKIQQQQPGYADLEH...  P07256   \n4     P00128  MPQSFTSIARIGDYILKSPVLSKLCVPVANQFINLAGYKKLGLKFD...  P07256   \n5     P00163  MAFRKSNVYLSLVNSYIIDSPQPSSINYWWNMGSLLGLCLVIQIVT...  P07256   \n...      ...                                                ...     ...   \n6180  P00742  MRKLCSLDNGDCDQFCHEEQNSVVCSCARGYTLADNGKACIPTGPY...  P01008   \n6186  P38919  PQRSVEGWILFVTGVHEEATEEDIHDKFAEYGEIKNIHLNLDRRTG...  Q9Y5S9   \n6187  O15234  DTKSTVTGERQSGDGQESTEPVENKVGKKGPKHLDDDEDRKNPAYI...  P38919   \n6190  P61326  REDYDSVEQDGDEPGPQRSVEGWILFVTGVHEEATEEDIHDKFAEY...  Q9Y5S9   \n6191  O15234  TKSTVTGERQSGDGQESTEPVENKVGKKGPKHLDDDEDRKNPAYIP...  P61326   \n\n                                                  seq_2   dataset  \n0     SEAQQKNYTFRCLQMSSFANRSWSRTDSVVWLGDLQTHRWSNDSAT...  negatome  \n2     GSHSMRYFFTSVSRPGRGEPRFIAVGYVDDTQFVRFDSDAASQRME...  negatome  \n3     AEVTQLSNGIVVATEHNPSAHTASVGVVFGSGAANENPYNNGVSNL...  negatome  \n4     AEVTQLSNGIVVATEHNPSAHTASVGVVFGSGAANENPYNNGVSNL...  negatome  \n5     AEVTQLSNGIVVATEHNPSAHTASVGVVFGSGAANENPYNNGVSNL...  negatome  \n...                                                 ...       ...  \n6180  LLIGFWDCVTCHGSPVDICTAKPRDIPMNPMCIYRSPEKKATEDEG...  negatome  \n6186  ATTATMATSGSARKRLLKEEDMTKVEFETSEEVDVTPTFDTMGLRE...  negatome  \n6187  ATTATMATSGSARKRLLKEEDMTKVEFETSEEVDVTPTFDTMGLRE...  negatome  \n6190  MESDFYLRYYVGHKGKFGHEFLEFEFRPDGKLRYANNSNYKNDVMI...  negatome  \n6191  MESDFYLRYYVGHKGKFGHEFLEFEFRPDGKLRYANNSNYKNDVMI...  negatome  \n\n[969 rows x 5 columns]",
      "text/html": "<div>\n<style scoped>\n    .dataframe tbody tr th:only-of-type {\n        vertical-align: middle;\n    }\n\n    .dataframe tbody tr th {\n        vertical-align: top;\n    }\n\n    .dataframe thead th {\n        text-align: right;\n    }\n</style>\n<table border=\"1\" class=\"dataframe\">\n  <thead>\n    <tr style=\"text-align: right;\">\n      <th></th>\n      <th>id_1</th>\n      <th>seq_1</th>\n      <th>id_2</th>\n      <th>seq_2</th>\n      <th>dataset</th>\n    </tr>\n  </thead>\n  <tbody>\n    <tr>\n      <th>0</th>\n      <td>P01887</td>\n      <td>IQKTPQIQVYSRHPPENGKPNILNCYVTQFHPPHIEIQMLKNGKKI...</td>\n      <td>P11609</td>\n      <td>SEAQQKNYTFRCLQMSSFANRSWSRTDSVVWLGDLQTHRWSNDSAT...</td>\n      <td>negatome</td>\n    </tr>\n    <tr>\n      <th>2</th>\n      <td>P01892</td>\n      <td>MIQRTPKIQVYSRHPAENGKSNFLNCYVSGFHPSDIEVDLLKNGER...</td>\n      <td>P61769</td>\n      <td>GSHSMRYFFTSVSRPGRGEPRFIAVGYVDDTQFVRFDSDAASQRME...</td>\n      <td>negatome</td>\n    </tr>\n    <tr>\n      <th>3</th>\n      <td>P00127</td>\n      <td>VTDQLEDLREHFKNTEEGKALVHHYEECAERVKIQQQQPGYADLEH...</td>\n      <td>P07256</td>\n      <td>AEVTQLSNGIVVATEHNPSAHTASVGVVFGSGAANENPYNNGVSNL...</td>\n      <td>negatome</td>\n    </tr>\n    <tr>\n      <th>4</th>\n      <td>P00128</td>\n      <td>MPQSFTSIARIGDYILKSPVLSKLCVPVANQFINLAGYKKLGLKFD...</td>\n      <td>P07256</td>\n      <td>AEVTQLSNGIVVATEHNPSAHTASVGVVFGSGAANENPYNNGVSNL...</td>\n      <td>negatome</td>\n    </tr>\n    <tr>\n      <th>5</th>\n      <td>P00163</td>\n      <td>MAFRKSNVYLSLVNSYIIDSPQPSSINYWWNMGSLLGLCLVIQIVT...</td>\n      <td>P07256</td>\n      <td>AEVTQLSNGIVVATEHNPSAHTASVGVVFGSGAANENPYNNGVSNL...</td>\n      <td>negatome</td>\n    </tr>\n    <tr>\n      <th>...</th>\n      <td>...</td>\n      <td>...</td>\n      <td>...</td>\n      <td>...</td>\n      <td>...</td>\n    </tr>\n    <tr>\n      <th>6180</th>\n      <td>P00742</td>\n      <td>MRKLCSLDNGDCDQFCHEEQNSVVCSCARGYTLADNGKACIPTGPY...</td>\n      <td>P01008</td>\n      <td>LLIGFWDCVTCHGSPVDICTAKPRDIPMNPMCIYRSPEKKATEDEG...</td>\n      <td>negatome</td>\n    </tr>\n    <tr>\n      <th>6186</th>\n      <td>P38919</td>\n      <td>PQRSVEGWILFVTGVHEEATEEDIHDKFAEYGEIKNIHLNLDRRTG...</td>\n      <td>Q9Y5S9</td>\n      <td>ATTATMATSGSARKRLLKEEDMTKVEFETSEEVDVTPTFDTMGLRE...</td>\n      <td>negatome</td>\n    </tr>\n    <tr>\n      <th>6187</th>\n      <td>O15234</td>\n      <td>DTKSTVTGERQSGDGQESTEPVENKVGKKGPKHLDDDEDRKNPAYI...</td>\n      <td>P38919</td>\n      <td>ATTATMATSGSARKRLLKEEDMTKVEFETSEEVDVTPTFDTMGLRE...</td>\n      <td>negatome</td>\n    </tr>\n    <tr>\n      <th>6190</th>\n      <td>P61326</td>\n      <td>REDYDSVEQDGDEPGPQRSVEGWILFVTGVHEEATEEDIHDKFAEY...</td>\n      <td>Q9Y5S9</td>\n      <td>MESDFYLRYYVGHKGKFGHEFLEFEFRPDGKLRYANNSNYKNDVMI...</td>\n      <td>negatome</td>\n    </tr>\n    <tr>\n      <th>6191</th>\n      <td>O15234</td>\n      <td>TKSTVTGERQSGDGQESTEPVENKVGKKGPKHLDDDEDRKNPAYIP...</td>\n      <td>P61326</td>\n      <td>MESDFYLRYYVGHKGKFGHEFLEFEFRPDGKLRYANNSNYKNDVMI...</td>\n      <td>negatome</td>\n    </tr>\n  </tbody>\n</table>\n<p>969 rows × 5 columns</p>\n</div>"
     },
     "execution_count": 3,
     "metadata": {},
     "output_type": "execute_result"
    }
   ],
   "source": [
    "# Sort id columns in each row\n",
    "df_pos_negatome[['id_1', 'id_2']] = pd.DataFrame(np.sort(df_pos_negatome[['id_1', 'id_2']], axis=1), columns=['id_1', 'id_2'])\n",
    "\n",
    "# Drop duplicate rows\n",
    "df_negatome = df_pos_negatome.drop_duplicates(subset=['id_1','id_2'])\n",
    "\n",
    "# Check if there are any duplicate interactions left\n",
    "duplicate_interactions = df_negatome[df_negatome.duplicated(subset=['id_1', 'id_2'])]\n",
    "\n",
    "if duplicate_interactions.empty:\n",
    "    print(\"No duplicate interactions found.\")\n",
    "else:\n",
    "    print(\"Duplicate interactions found:\")\n",
    "    print(duplicate_interactions)\n",
    "\n",
    "df_negatome"
   ]
  },
  {
   "cell_type": "markdown",
   "id": "ce763bdf55504973",
   "metadata": {
    "collapsed": false
   },
   "source": [
    "Negatome has 969 unique positive interactions. "
   ]
  },
  {
   "cell_type": "markdown",
   "id": "1550d29cb31ef221",
   "metadata": {
    "collapsed": false
   },
   "source": [
    "Now we uploead the existing positive dataset (Hippie, Mint, and Signor data)."
   ]
  },
  {
   "cell_type": "code",
   "execution_count": 5,
   "id": "5e7b9701808c45f5",
   "metadata": {
    "collapsed": false,
    "ExecuteTime": {
     "end_time": "2024-08-13T19:42:59.356008400Z",
     "start_time": "2024-08-13T19:42:55.382397500Z"
    }
   },
   "outputs": [],
   "source": [
    "df_three = pd.read_csv(\"01_all_dataset_positive.csv\", sep=',')\n",
    "df_three.columns = ['id_1', 'seq_1', 'id_2', 'seq_2', 'dataset']"
   ]
  },
  {
   "cell_type": "markdown",
   "id": "ea6212eab0fdbdda",
   "metadata": {
    "collapsed": false
   },
   "source": [
    "We add Negatome's positive interaction data."
   ]
  },
  {
   "cell_type": "code",
   "execution_count": 6,
   "id": "5cad11f7e36dce08",
   "metadata": {
    "collapsed": false,
    "ExecuteTime": {
     "end_time": "2024-08-13T19:43:01.400910400Z",
     "start_time": "2024-08-13T19:43:01.371854200Z"
    }
   },
   "outputs": [],
   "source": [
    "df_pairs = pd.concat([df_three, df_negatome], axis=0)"
   ]
  },
  {
   "cell_type": "markdown",
   "id": "257062eadb8d98c4",
   "metadata": {
    "collapsed": false
   },
   "source": [
    "We check if there is any null data."
   ]
  },
  {
   "cell_type": "code",
   "execution_count": 7,
   "id": "9ce38ba9628cc842",
   "metadata": {
    "collapsed": false,
    "ExecuteTime": {
     "end_time": "2024-08-13T19:43:03.640856700Z",
     "start_time": "2024-08-13T19:43:03.619902100Z"
    }
   },
   "outputs": [],
   "source": [
    "if (df_pairs.isnull().values.any()) == True:\n",
    "    print(\"There is null data.\")"
   ]
  },
  {
   "cell_type": "markdown",
   "id": "673ac08f62d25368",
   "metadata": {
    "collapsed": false
   },
   "source": [
    "Check if the interaction data is unique. Identifiers are sorted alphabetically in each row to see if there are any repetitions."
   ]
  },
  {
   "cell_type": "code",
   "execution_count": 8,
   "id": "8362f6a500028a32",
   "metadata": {
    "collapsed": false,
    "ExecuteTime": {
     "end_time": "2024-08-13T19:43:05.988269300Z",
     "start_time": "2024-08-13T19:43:05.446724900Z"
    }
   },
   "outputs": [
    {
     "name": "stdout",
     "output_type": "stream",
     "text": [
      "<class 'pandas.core.frame.DataFrame'>\n",
      "Index: 847330 entries, 0 to 847329\n",
      "Data columns (total 5 columns):\n",
      " #   Column   Non-Null Count   Dtype \n",
      "---  ------   --------------   ----- \n",
      " 0   id_1     847330 non-null  object\n",
      " 1   seq_1    847330 non-null  object\n",
      " 2   id_2     847330 non-null  object\n",
      " 3   seq_2    847330 non-null  object\n",
      " 4   dataset  847330 non-null  object\n",
      "dtypes: object(5)\n",
      "memory usage: 38.8+ MB\n",
      "No duplicate interactions found.\n"
     ]
    },
    {
     "name": "stderr",
     "output_type": "stream",
     "text": [
      "C:\\Users\\monts\\AppData\\Local\\Temp\\ipykernel_8408\\1062604282.py:17: SettingWithCopyWarning: \n",
      "A value is trying to be set on a copy of a slice from a DataFrame.\n",
      "Try using .loc[row_indexer,col_indexer] = value instead\n",
      "\n",
      "See the caveats in the documentation: https://pandas.pydata.org/pandas-docs/stable/user_guide/indexing.html#returning-a-view-versus-a-copy\n",
      "  df_main['Interaccion'] = 1\n"
     ]
    }
   ],
   "source": [
    "# Sort id columns in each row\n",
    "df_pairs[['id_1', 'id_2']] = pd.DataFrame(np.sort(df_pairs[['id_1', 'id_2']], axis=1), columns=['id_1', 'id_2'])\n",
    "\n",
    "df_main = df_pairs.drop_duplicates(subset=['id_1','id_2'])\n",
    "df_main.info()\n",
    "\n",
    "# Check if there are any duplicate interactions left\n",
    "duplicate_interactions = df_main[df_main.duplicated(subset=['id_1', 'id_2'])]\n",
    "\n",
    "if duplicate_interactions.empty:\n",
    "    print(\"No duplicate interactions found.\")\n",
    "else:\n",
    "    print(\"Duplicate interactions found:\")\n",
    "    print(duplicate_interactions)\n",
    "\n",
    "#Se agrega que son positivos\n",
    "df_main['Interaccion'] = 1"
   ]
  },
  {
   "cell_type": "markdown",
   "id": "2795c4c7b28ed059",
   "metadata": {
    "collapsed": false
   },
   "source": [
    "All the values that were duplicated corresponded to Negatome. So now we quantify and characterize the database.\n",
    "First, count the data.\n",
    " "
   ]
  },
  {
   "cell_type": "markdown",
   "id": "565d9af5c48bf07d",
   "metadata": {
    "collapsed": false
   },
   "source": [
    "We have 847.330 unique interactions. Now let's check the unique protein sequences. \n",
    "To do this, we occupy the rows with their IDs and concatenate them, then eliminate the duplicates."
   ]
  },
  {
   "cell_type": "code",
   "execution_count": 9,
   "id": "a72dd710ba60e323",
   "metadata": {
    "collapsed": false,
    "ExecuteTime": {
     "end_time": "2024-08-13T19:45:20.096843500Z",
     "start_time": "2024-08-13T19:45:19.028790Z"
    }
   },
   "outputs": [
    {
     "name": "stdout",
     "output_type": "stream",
     "text": [
      "<class 'pandas.core.frame.DataFrame'>\n",
      "RangeIndex: 43568 entries, 0 to 43567\n",
      "Data columns (total 2 columns):\n",
      " #   Column  Non-Null Count  Dtype \n",
      "---  ------  --------------  ----- \n",
      " 0   id_seq  43568 non-null  object\n",
      " 1   seq     43568 non-null  object\n",
      "dtypes: object(2)\n",
      "memory usage: 680.9+ KB\n",
      "<class 'pandas.core.frame.DataFrame'>\n",
      "RangeIndex: 42493 entries, 0 to 42492\n",
      "Data columns (total 2 columns):\n",
      " #   Column  Non-Null Count  Dtype \n",
      "---  ------  --------------  ----- \n",
      " 0   id_seq  42493 non-null  object\n",
      " 1   seq     42493 non-null  object\n",
      "dtypes: object(2)\n",
      "memory usage: 664.1+ KB\n"
     ]
    }
   ],
   "source": [
    "df_1 = df_main.filter(['id_1','seq_1'], axis=1)\n",
    "df_1.columns = ['id_seq','seq']\n",
    "\n",
    "df_2 = df_main.filter(['id_2','seq_2'], axis=1)\n",
    "df_2.columns = ['id_seq','seq']\n",
    "\n",
    "#concatenar\n",
    "df_all_seq = pd.concat([df_1, df_2])\n",
    "\n",
    "df_unique_id = df_all_seq.drop_duplicates(subset=['id_seq'],ignore_index=True)\n",
    "#42493 seq unicos\n",
    "#43568 ids unicos\n",
    "df_unique_id.info()\n",
    "\n",
    "df_unique_seq = df_all_seq.drop_duplicates(subset=['seq'],ignore_index=True)\n",
    "df_unique_seq.info()\n",
    "\n",
    "df_unique_id.to_csv('unique_ids_positives.csv', index_label=False, index=False, encoding='utf-8')\n",
    "df_unique_seq.to_csv('unique_seq_positives.csv', index_label=False, index=False, encoding='utf-8')\n"
   ]
  },
  {
   "cell_type": "code",
   "execution_count": 10,
   "id": "e24d40ed-7171-4e79-90b3-3073d6023ac6",
   "metadata": {
    "ExecuteTime": {
     "end_time": "2024-08-13T19:45:52.954688900Z",
     "start_time": "2024-08-13T19:45:28.371274400Z"
    }
   },
   "outputs": [
    {
     "name": "stdout",
     "output_type": "stream",
     "text": [
      "              id_1                                              seq_1    id_2  \\\n",
      "0       A0A023PXA5  MLLSELVATASSLPYTAISIHNNCRVPAARHIHHGCRYFHGPPVMH...  P33302   \n",
      "1       A0A023PXA5  MLLSELVATASSLPYTAISIHNNCRVPAARHIHHGCRYFHGPPVMH...  P47068   \n",
      "2       A0A023PXP4  MLIGAPSNMRLRGALELLWRRLLHGLMQLRLVLKMHICSQLNHAIK...  P39743   \n",
      "3       A0A023PYF7  MTVLLEHPLGPDSSRILCLALGKNMASKASCTSLSFLLCMATCSKQ...  P39743   \n",
      "4       A0A023PZD0  MTIVHFVGSLFFFFFFSYIFFYNDHGLYTWGCNFAMESPSPTSSPS...  P53281   \n",
      "...            ...                                                ...     ...   \n",
      "847325      U5TLZ3  MKRACSRSPSPRRRPSSPRRTPPRDGTPPQKADADDPTPGASNDAS...  U5TMQ7   \n",
      "847326      U5TLZ3  MKRACSRSPSPRRRPSSPRRTPPRDGTPPQKADADDPTPGASNDAS...  U5TQC3   \n",
      "847327      U5TMQ7  MAGREGRTRQRTLRDTIPDCALRSQTLESLDARYVSRDGAHNAAVW...  U5TMQ7   \n",
      "847328      U5TMQ7  MDRDAAHAALRRRLAETHLRAEIYKDQTLQLHREGVSTQDPRFVGA...  U5TQC3   \n",
      "847329      U5TQC3  MDRDAAHAALRRRLAETHLRAEIYKDQTLQLHREGVSTQDPRFVGA...  U5TQC3   \n",
      "\n",
      "                                                    seq_2 dataset  Interaccion  \n",
      "0       MPEAKLNNNVNDVTSYSSASSSTENAADLHNYNGFDEHTEARIQKL...    mint            1  \n",
      "1       MSEPEVPFKVVAQFPYKSDYEDDLNFEKDQEIIVTSVEDAEWYFGE...    mint            1  \n",
      "2       MSFKGFTKAVSRAPQSFRQKFKMGEQTEDPVYEDAERRFQELEQET...    mint            1  \n",
      "3       MSFKGFTKAVSRAPQSFRQKFKMGEQTEDPVYEDAERRFQELEQET...    mint            1  \n",
      "4       MSASLVNRSLKNIRNELEFLKESNVISGDIFELINSKLPEKWDGNQ...    mint            1  \n",
      "...                                                   ...     ...          ...  \n",
      "847325  MAGREGRTRQRTLRDTIPDCALRSQTLESLDARYVSRDGAHNAAVW...    mint            1  \n",
      "847326  MDRDAAHAALRRRLAETHLRAEIYKDQTLQLHREGVSTQDPRFVGA...    mint            1  \n",
      "847327  MAGREGRTRQRTLRDTIPDCALRSQTLESLDARYVSRDGAHNAAVW...    mint            1  \n",
      "847328  MAGREGRTRQRTLRDTIPDCALRSQTLESLDARYVSRDGAHNAAVW...    mint            1  \n",
      "847329  MDRDAAHAALRRRLAETHLRAEIYKDQTLQLHREGVSTQDPRFVGA...    mint            1  \n",
      "\n",
      "[847330 rows x 6 columns]\n",
      "42493\n",
      "              id_1                                              seq_1    id_2  \\\n",
      "0       A0A023PXA5  MLLSELVATASSLPYTAISIHNNCRVPAARHIHHGCRYFHGPPVMH...  P33302   \n",
      "1       A0A023PXA5  MLLSELVATASSLPYTAISIHNNCRVPAARHIHHGCRYFHGPPVMH...  P47068   \n",
      "2       A0A023PXP4  MLIGAPSNMRLRGALELLWRRLLHGLMQLRLVLKMHICSQLNHAIK...  P39743   \n",
      "3       A0A023PYF7  MTVLLEHPLGPDSSRILCLALGKNMASKASCTSLSFLLCMATCSKQ...  P39743   \n",
      "4       A0A023PZD0  MTIVHFVGSLFFFFFFSYIFFYNDHGLYTWGCNFAMESPSPTSSPS...  P53281   \n",
      "...            ...                                                ...     ...   \n",
      "847325      U5TLZ3  MKRACSRSPSPRRRPSSPRRTPPRDGTPPQKADADDPTPGASNDAS...  U5TMQ7   \n",
      "847326      U5TLZ3  MKRACSRSPSPRRRPSSPRRTPPRDGTPPQKADADDPTPGASNDAS...  U5TQC3   \n",
      "847327      U5TMQ7  MAGREGRTRQRTLRDTIPDCALRSQTLESLDARYVSRDGAHNAAVW...  U5TMQ7   \n",
      "847328      U5TMQ7  MDRDAAHAALRRRLAETHLRAEIYKDQTLQLHREGVSTQDPRFVGA...  U5TQC3   \n",
      "847329      U5TQC3  MDRDAAHAALRRRLAETHLRAEIYKDQTLQLHREGVSTQDPRFVGA...  U5TQC3   \n",
      "\n",
      "                                                    seq_2 dataset  Interaccion  \n",
      "0       MPEAKLNNNVNDVTSYSSASSSTENAADLHNYNGFDEHTEARIQKL...    mint            1  \n",
      "1       MSEPEVPFKVVAQFPYKSDYEDDLNFEKDQEIIVTSVEDAEWYFGE...    mint            1  \n",
      "2       MSFKGFTKAVSRAPQSFRQKFKMGEQTEDPVYEDAERRFQELEQET...    mint            1  \n",
      "3       MSFKGFTKAVSRAPQSFRQKFKMGEQTEDPVYEDAERRFQELEQET...    mint            1  \n",
      "4       MSASLVNRSLKNIRNELEFLKESNVISGDIFELINSKLPEKWDGNQ...    mint            1  \n",
      "...                                                   ...     ...          ...  \n",
      "847325  MAGREGRTRQRTLRDTIPDCALRSQTLESLDARYVSRDGAHNAAVW...    mint            1  \n",
      "847326  MDRDAAHAALRRRLAETHLRAEIYKDQTLQLHREGVSTQDPRFVGA...    mint            1  \n",
      "847327  MAGREGRTRQRTLRDTIPDCALRSQTLESLDARYVSRDGAHNAAVW...    mint            1  \n",
      "847328  MAGREGRTRQRTLRDTIPDCALRSQTLESLDARYVSRDGAHNAAVW...    mint            1  \n",
      "847329  MDRDAAHAALRRRLAETHLRAEIYKDQTLQLHREGVSTQDPRFVGA...    mint            1  \n",
      "\n",
      "[847330 rows x 6 columns]\n"
     ]
    }
   ],
   "source": [
    "#seq\n",
    "id = pd.read_csv(\"unique_ids_positives.csv\", sep=',')\n",
    "lista_valores = id['id_seq']\n",
    "\n",
    "df_filtrado = df_main[df_main['id_1'].isin(lista_valores)]\n",
    "df_filtrado_2 = df_filtrado[df_filtrado['id_2'].isin(lista_valores)]\n",
    "print(df_filtrado_2)\n",
    "\n",
    "seq = pd.read_csv(\"unique_seq_positives.csv\", sep=',')\n",
    "lista_valores_x = seq['seq']\n",
    "print(len(seq['seq']))\n",
    "\n",
    "df_filtrado_x = df_filtrado_2[df_filtrado_2['seq_1'].isin(lista_valores_x)]\n",
    "df_filtrado_y = df_filtrado_x[df_filtrado_x['seq_2'].isin(lista_valores_x)]\n",
    "print(df_filtrado_y)\n",
    "\n",
    "\n",
    "df_filtrado_y.to_csv('Positives_Refined.csv', index_label=False, index=False, encoding='utf-8')\n"
   ]
  },
  {
   "cell_type": "code",
   "execution_count": 11,
   "id": "b2dbb142-130b-4859-9443-53b731c207b6",
   "metadata": {
    "ExecuteTime": {
     "end_time": "2024-08-13T19:45:53.145704100Z",
     "start_time": "2024-08-13T19:45:52.956699600Z"
    }
   },
   "outputs": [
    {
     "name": "stdout",
     "output_type": "stream",
     "text": [
      "No duplicate interactions found.\n"
     ]
    }
   ],
   "source": [
    "duplicate = df_filtrado_y[df_filtrado_y.duplicated(subset=['id_1', 'id_2'])]\n",
    "\n",
    "if duplicate_interactions.empty:\n",
    "    print(\"No duplicate interactions found.\")\n",
    "else:\n",
    "    print(\"Duplicate interactions found:\")\n",
    "    print(duplicate_interactions) "
   ]
  },
  {
   "cell_type": "code",
   "execution_count": 12,
   "id": "1489a8d63c450538",
   "metadata": {
    "collapsed": false,
    "ExecuteTime": {
     "end_time": "2024-08-13T19:45:57.634956800Z",
     "start_time": "2024-08-13T19:45:57.616921500Z"
    }
   },
   "outputs": [
    {
     "data": {
      "text/plain": "       id_seq                                                seq\n0  A0A023PXA5  MLLSELVATASSLPYTAISIHNNCRVPAARHIHHGCRYFHGPPVMH...\n1  A0A023PXP4  MLIGAPSNMRLRGALELLWRRLLHGLMQLRLVLKMHICSQLNHAIK...\n2  A0A023PYF7  MTVLLEHPLGPDSSRILCLALGKNMASKASCTSLSFLLCMATCSKQ...\n3  A0A023PZD0  MTIVHFVGSLFFFFFFSYIFFYNDHGLYTWGCNFAMESPSPTSSPS...\n4  A0A023PZD0  MSSTAVPRPKPWETSASLEEPQRNAQSLSAMMTSNQQDSRPTEESN...",
      "text/html": "<div>\n<style scoped>\n    .dataframe tbody tr th:only-of-type {\n        vertical-align: middle;\n    }\n\n    .dataframe tbody tr th {\n        vertical-align: top;\n    }\n\n    .dataframe thead th {\n        text-align: right;\n    }\n</style>\n<table border=\"1\" class=\"dataframe\">\n  <thead>\n    <tr style=\"text-align: right;\">\n      <th></th>\n      <th>id_seq</th>\n      <th>seq</th>\n    </tr>\n  </thead>\n  <tbody>\n    <tr>\n      <th>0</th>\n      <td>A0A023PXA5</td>\n      <td>MLLSELVATASSLPYTAISIHNNCRVPAARHIHHGCRYFHGPPVMH...</td>\n    </tr>\n    <tr>\n      <th>1</th>\n      <td>A0A023PXP4</td>\n      <td>MLIGAPSNMRLRGALELLWRRLLHGLMQLRLVLKMHICSQLNHAIK...</td>\n    </tr>\n    <tr>\n      <th>2</th>\n      <td>A0A023PYF7</td>\n      <td>MTVLLEHPLGPDSSRILCLALGKNMASKASCTSLSFLLCMATCSKQ...</td>\n    </tr>\n    <tr>\n      <th>3</th>\n      <td>A0A023PZD0</td>\n      <td>MTIVHFVGSLFFFFFFSYIFFYNDHGLYTWGCNFAMESPSPTSSPS...</td>\n    </tr>\n    <tr>\n      <th>4</th>\n      <td>A0A023PZD0</td>\n      <td>MSSTAVPRPKPWETSASLEEPQRNAQSLSAMMTSNQQDSRPTEESN...</td>\n    </tr>\n  </tbody>\n</table>\n</div>"
     },
     "execution_count": 12,
     "metadata": {},
     "output_type": "execute_result"
    }
   ],
   "source": [
    "df_unique_seq.head()"
   ]
  },
  {
   "cell_type": "markdown",
   "id": "f92fc93095de2ac3",
   "metadata": {
    "collapsed": false
   },
   "source": [
    "In the dataset there are *43.568* unique protein sequences. "
   ]
  },
  {
   "cell_type": "markdown",
   "id": "b8d7c2fcf118996e",
   "metadata": {
    "collapsed": false
   },
   "source": [
    "Now we characterize the proteins in the database. To do this we need to know the number of amino acids in their sequences. "
   ]
  },
  {
   "cell_type": "code",
   "execution_count": 13,
   "id": "da0de5f440b7a9dd",
   "metadata": {
    "collapsed": false,
    "ExecuteTime": {
     "end_time": "2024-08-13T19:46:56.602111900Z",
     "start_time": "2024-08-13T19:46:50.599862100Z"
    }
   },
   "outputs": [],
   "source": [
    "# create an empty array\n",
    "largos_seq_1 = []\n",
    "largos_seq_2 = []\n",
    "\n",
    "for i in range(0,len(df_main)):\n",
    "    s1 = df_main['seq_1'][i]\n",
    "    largos_seq_1.append(len(s1))\n",
    "    \n",
    "    s2 = df_main['seq_2'][i]\n",
    "    largos_seq_2.append(len(s2))\n",
    "\n",
    "df_len_id_1 = pd.DataFrame(largos_seq_1)\n",
    "df_len_id_2 = pd.DataFrame(largos_seq_2)"
   ]
  },
  {
   "cell_type": "code",
   "execution_count": 40,
   "id": "5fb536a155377d2d",
   "metadata": {
    "ExecuteTime": {
     "end_time": "2024-03-08T13:48:56.836295200Z",
     "start_time": "2024-03-08T13:48:56.818511900Z"
    },
    "collapsed": false
   },
   "outputs": [
    {
     "data": {
      "text/html": [
       "<div>\n",
       "<style scoped>\n",
       "    .dataframe tbody tr th:only-of-type {\n",
       "        vertical-align: middle;\n",
       "    }\n",
       "\n",
       "    .dataframe tbody tr th {\n",
       "        vertical-align: top;\n",
       "    }\n",
       "\n",
       "    .dataframe thead th {\n",
       "        text-align: right;\n",
       "    }\n",
       "</style>\n",
       "<table border=\"1\" class=\"dataframe\">\n",
       "  <thead>\n",
       "    <tr style=\"text-align: right;\">\n",
       "      <th></th>\n",
       "      <th>seq_1</th>\n",
       "      <th>seq_2</th>\n",
       "    </tr>\n",
       "  </thead>\n",
       "  <tbody>\n",
       "    <tr>\n",
       "      <th>0</th>\n",
       "      <td>189</td>\n",
       "      <td>1511</td>\n",
       "    </tr>\n",
       "    <tr>\n",
       "      <th>1</th>\n",
       "      <td>189</td>\n",
       "      <td>1157</td>\n",
       "    </tr>\n",
       "    <tr>\n",
       "      <th>2</th>\n",
       "      <td>132</td>\n",
       "      <td>482</td>\n",
       "    </tr>\n",
       "    <tr>\n",
       "      <th>3</th>\n",
       "      <td>126</td>\n",
       "      <td>482</td>\n",
       "    </tr>\n",
       "    <tr>\n",
       "      <th>4</th>\n",
       "      <td>216</td>\n",
       "      <td>241</td>\n",
       "    </tr>\n",
       "    <tr>\n",
       "      <th>...</th>\n",
       "      <td>...</td>\n",
       "      <td>...</td>\n",
       "    </tr>\n",
       "    <tr>\n",
       "      <th>847325</th>\n",
       "      <td>334</td>\n",
       "      <td>130</td>\n",
       "    </tr>\n",
       "    <tr>\n",
       "      <th>847326</th>\n",
       "      <td>334</td>\n",
       "      <td>219</td>\n",
       "    </tr>\n",
       "    <tr>\n",
       "      <th>847327</th>\n",
       "      <td>130</td>\n",
       "      <td>130</td>\n",
       "    </tr>\n",
       "    <tr>\n",
       "      <th>847328</th>\n",
       "      <td>219</td>\n",
       "      <td>130</td>\n",
       "    </tr>\n",
       "    <tr>\n",
       "      <th>847329</th>\n",
       "      <td>219</td>\n",
       "      <td>219</td>\n",
       "    </tr>\n",
       "  </tbody>\n",
       "</table>\n",
       "<p>847330 rows × 2 columns</p>\n",
       "</div>"
      ],
      "text/plain": [
       "        seq_1  seq_2\n",
       "0         189   1511\n",
       "1         189   1157\n",
       "2         132    482\n",
       "3         126    482\n",
       "4         216    241\n",
       "...       ...    ...\n",
       "847325    334    130\n",
       "847326    334    219\n",
       "847327    130    130\n",
       "847328    219    130\n",
       "847329    219    219\n",
       "\n",
       "[847330 rows x 2 columns]"
      ]
     },
     "execution_count": 40,
     "metadata": {},
     "output_type": "execute_result"
    }
   ],
   "source": [
    "df_junto = pd.concat([df_len_id_1,df_len_id_2], axis=1)\n",
    "df_junto.columns = ['seq_1','seq_2']\n",
    "df_junto"
   ]
  },
  {
   "cell_type": "code",
   "execution_count": 41,
   "id": "4547f13af5b58602",
   "metadata": {
    "ExecuteTime": {
     "end_time": "2024-03-08T13:48:56.907230700Z",
     "start_time": "2024-03-08T13:48:56.828294900Z"
    },
    "collapsed": false
   },
   "outputs": [
    {
     "data": {
      "text/html": [
       "<div>\n",
       "<style scoped>\n",
       "    .dataframe tbody tr th:only-of-type {\n",
       "        vertical-align: middle;\n",
       "    }\n",
       "\n",
       "    .dataframe tbody tr th {\n",
       "        vertical-align: top;\n",
       "    }\n",
       "\n",
       "    .dataframe thead th {\n",
       "        text-align: right;\n",
       "    }\n",
       "</style>\n",
       "<table border=\"1\" class=\"dataframe\">\n",
       "  <thead>\n",
       "    <tr style=\"text-align: right;\">\n",
       "      <th></th>\n",
       "      <th>seq_1</th>\n",
       "      <th>seq_2</th>\n",
       "    </tr>\n",
       "  </thead>\n",
       "  <tbody>\n",
       "    <tr>\n",
       "      <th>count</th>\n",
       "      <td>847330.000000</td>\n",
       "      <td>847330.000000</td>\n",
       "    </tr>\n",
       "    <tr>\n",
       "      <th>mean</th>\n",
       "      <td>582.985125</td>\n",
       "      <td>681.898483</td>\n",
       "    </tr>\n",
       "    <tr>\n",
       "      <th>std</th>\n",
       "      <td>553.437681</td>\n",
       "      <td>797.928795</td>\n",
       "    </tr>\n",
       "    <tr>\n",
       "      <th>min</th>\n",
       "      <td>7.000000</td>\n",
       "      <td>9.000000</td>\n",
       "    </tr>\n",
       "    <tr>\n",
       "      <th>25%</th>\n",
       "      <td>277.000000</td>\n",
       "      <td>305.000000</td>\n",
       "    </tr>\n",
       "    <tr>\n",
       "      <th>50%</th>\n",
       "      <td>444.000000</td>\n",
       "      <td>501.000000</td>\n",
       "    </tr>\n",
       "    <tr>\n",
       "      <th>75%</th>\n",
       "      <td>726.000000</td>\n",
       "      <td>808.000000</td>\n",
       "    </tr>\n",
       "    <tr>\n",
       "      <th>max</th>\n",
       "      <td>35213.000000</td>\n",
       "      <td>35213.000000</td>\n",
       "    </tr>\n",
       "  </tbody>\n",
       "</table>\n",
       "</div>"
      ],
      "text/plain": [
       "               seq_1          seq_2\n",
       "count  847330.000000  847330.000000\n",
       "mean      582.985125     681.898483\n",
       "std       553.437681     797.928795\n",
       "min         7.000000       9.000000\n",
       "25%       277.000000     305.000000\n",
       "50%       444.000000     501.000000\n",
       "75%       726.000000     808.000000\n",
       "max     35213.000000   35213.000000"
      ]
     },
     "execution_count": 41,
     "metadata": {},
     "output_type": "execute_result"
    }
   ],
   "source": [
    "df_junto.describe()"
   ]
  },
  {
   "cell_type": "markdown",
   "id": "f3ec13de441c357d",
   "metadata": {
    "collapsed": false
   },
   "source": [
    "Analizemos las secuencias únicas. "
   ]
  },
  {
   "cell_type": "code",
   "execution_count": 42,
   "id": "5b33addec673b38a",
   "metadata": {
    "ExecuteTime": {
     "end_time": "2024-03-08T13:48:57.035723400Z",
     "start_time": "2024-03-08T13:48:56.940235100Z"
    },
    "collapsed": false
   },
   "outputs": [
    {
     "data": {
      "text/html": [
       "<div>\n",
       "<style scoped>\n",
       "    .dataframe tbody tr th:only-of-type {\n",
       "        vertical-align: middle;\n",
       "    }\n",
       "\n",
       "    .dataframe tbody tr th {\n",
       "        vertical-align: top;\n",
       "    }\n",
       "\n",
       "    .dataframe thead th {\n",
       "        text-align: right;\n",
       "    }\n",
       "</style>\n",
       "<table border=\"1\" class=\"dataframe\">\n",
       "  <thead>\n",
       "    <tr style=\"text-align: right;\">\n",
       "      <th></th>\n",
       "      <th>id</th>\n",
       "      <th>length</th>\n",
       "    </tr>\n",
       "  </thead>\n",
       "  <tbody>\n",
       "    <tr>\n",
       "      <th>0</th>\n",
       "      <td>A0A023PXA5</td>\n",
       "      <td>189</td>\n",
       "    </tr>\n",
       "    <tr>\n",
       "      <th>1</th>\n",
       "      <td>A0A023PXP4</td>\n",
       "      <td>132</td>\n",
       "    </tr>\n",
       "    <tr>\n",
       "      <th>2</th>\n",
       "      <td>A0A023PYF7</td>\n",
       "      <td>126</td>\n",
       "    </tr>\n",
       "    <tr>\n",
       "      <th>3</th>\n",
       "      <td>A0A023PZD0</td>\n",
       "      <td>216</td>\n",
       "    </tr>\n",
       "    <tr>\n",
       "      <th>4</th>\n",
       "      <td>A0A023PZD0</td>\n",
       "      <td>386</td>\n",
       "    </tr>\n",
       "  </tbody>\n",
       "</table>\n",
       "</div>"
      ],
      "text/plain": [
       "           id  length\n",
       "0  A0A023PXA5     189\n",
       "1  A0A023PXP4     132\n",
       "2  A0A023PYF7     126\n",
       "3  A0A023PZD0     216\n",
       "4  A0A023PZD0     386"
      ]
     },
     "execution_count": 42,
     "metadata": {},
     "output_type": "execute_result"
    }
   ],
   "source": [
    "# definir un array vacío\n",
    "largos_seq_uniq = []\n",
    "\n",
    "for i in range(0,len(df_unique_seq)):\n",
    "    s = df_unique_seq['seq'][i]\n",
    "    largos_seq_uniq.append(len(s))\n",
    "\n",
    "df_len_uniq_n = pd.DataFrame(largos_seq_uniq) # sin id\n",
    "\n",
    "df_uniq_id = df_unique_seq.filter(items=['id_seq'])\n",
    "\n",
    "df_len_uniq = pd.concat([df_uniq_id,df_len_uniq_n],axis=1)\n",
    "df_len_uniq.columns =['id', 'length']\n",
    "\n",
    "df_len_uniq.head()"
   ]
  },
  {
   "cell_type": "code",
   "execution_count": 43,
   "id": "7a668907-2da1-4839-8719-eb9374ca11b4",
   "metadata": {},
   "outputs": [],
   "source": [
    "df_len_uniq_n.to_csv('unique_seq_positives.csv', index_label=False, index=False, encoding='utf-8')"
   ]
  },
  {
   "cell_type": "code",
   "execution_count": 44,
   "id": "f57f8c02db1e90b6",
   "metadata": {
    "ExecuteTime": {
     "end_time": "2024-03-08T13:48:57.051097400Z",
     "start_time": "2024-03-08T13:48:57.030724800Z"
    },
    "collapsed": false
   },
   "outputs": [
    {
     "data": {
      "text/html": [
       "<div>\n",
       "<style scoped>\n",
       "    .dataframe tbody tr th:only-of-type {\n",
       "        vertical-align: middle;\n",
       "    }\n",
       "\n",
       "    .dataframe tbody tr th {\n",
       "        vertical-align: top;\n",
       "    }\n",
       "\n",
       "    .dataframe thead th {\n",
       "        text-align: right;\n",
       "    }\n",
       "</style>\n",
       "<table border=\"1\" class=\"dataframe\">\n",
       "  <thead>\n",
       "    <tr style=\"text-align: right;\">\n",
       "      <th></th>\n",
       "      <th>length</th>\n",
       "    </tr>\n",
       "  </thead>\n",
       "  <tbody>\n",
       "    <tr>\n",
       "      <th>count</th>\n",
       "      <td>42493.000000</td>\n",
       "    </tr>\n",
       "    <tr>\n",
       "      <th>mean</th>\n",
       "      <td>596.383028</td>\n",
       "    </tr>\n",
       "    <tr>\n",
       "      <th>std</th>\n",
       "      <td>606.285521</td>\n",
       "    </tr>\n",
       "    <tr>\n",
       "      <th>min</th>\n",
       "      <td>7.000000</td>\n",
       "    </tr>\n",
       "    <tr>\n",
       "      <th>25%</th>\n",
       "      <td>276.000000</td>\n",
       "    </tr>\n",
       "    <tr>\n",
       "      <th>50%</th>\n",
       "      <td>448.000000</td>\n",
       "    </tr>\n",
       "    <tr>\n",
       "      <th>75%</th>\n",
       "      <td>724.000000</td>\n",
       "    </tr>\n",
       "    <tr>\n",
       "      <th>max</th>\n",
       "      <td>35213.000000</td>\n",
       "    </tr>\n",
       "  </tbody>\n",
       "</table>\n",
       "</div>"
      ],
      "text/plain": [
       "             length\n",
       "count  42493.000000\n",
       "mean     596.383028\n",
       "std      606.285521\n",
       "min        7.000000\n",
       "25%      276.000000\n",
       "50%      448.000000\n",
       "75%      724.000000\n",
       "max    35213.000000"
      ]
     },
     "execution_count": 44,
     "metadata": {},
     "output_type": "execute_result"
    }
   ],
   "source": [
    "df_len_uniq.describe()"
   ]
  },
  {
   "cell_type": "code",
   "execution_count": 45,
   "id": "7b40f3e390851781",
   "metadata": {
    "ExecuteTime": {
     "end_time": "2024-03-08T13:48:57.321629800Z",
     "start_time": "2024-03-08T13:48:57.040097Z"
    },
    "collapsed": false
   },
   "outputs": [
    {
     "data": {
      "image/png": "[encoded data removed]",
      "text/plain": [
       "<Figure size 640x480 with 1 Axes>"
      ]
     },
     "metadata": {},
     "output_type": "display_data"
    }
   ],
   "source": [
    "plot_unique = df_len_uniq.plot(kind='line', title=\"Distribución de largos de secuencias únicas\")"
   ]
  },
  {
   "cell_type": "code",
   "execution_count": 46,
   "id": "4f6e7269f6dc39d4",
   "metadata": {
    "ExecuteTime": {
     "end_time": "2024-03-08T13:48:58.079420200Z",
     "start_time": "2024-03-08T13:48:57.858469900Z"
    },
    "collapsed": false
   },
   "outputs": [
    {
     "data": {
      "image/png": "[encoded data removed]",
      "text/plain": [
       "<Figure size 1000x600 with 1 Axes>"
      ]
     },
     "metadata": {},
     "output_type": "display_data"
    }
   ],
   "source": [
    "# Define bins for logarithmic scale\n",
    "log_bins = np.logspace(0, np.log10(df_len_uniq['length'].max()), 30)\n",
    "\n",
    "# Plot the distribution of protein lengths on a logarithmic scale\n",
    "plt.figure(figsize=(10, 6))\n",
    "plt.hist(df_len_uniq['length'], bins=log_bins, color='skyblue', edgecolor='black')\n",
    "plt.xscale('log')\n",
    "plt.title('Distribution of Protein Lengths (Log Scale)')\n",
    "plt.xlabel('Length')\n",
    "plt.ylabel('Frequency')\n",
    "\n",
    "# Define custom x-axis ticks\n",
    "xticks = [1, 10, 100, 1000, 10000, 100000]\n",
    "xtick_labels = ['1', '10', '100', '1k', '10k', '100k']\n",
    "plt.xticks(xticks, xtick_labels)\n",
    "\n",
    "plt.grid(True)\n",
    "plt.savefig('Gauss.png')\n",
    "plt.show()"
   ]
  },
  {
   "cell_type": "code",
   "execution_count": 47,
   "id": "3f2d5f7bce5a4a21",
   "metadata": {
    "ExecuteTime": {
     "end_time": "2024-03-08T13:52:07.719197800Z",
     "start_time": "2024-03-08T13:52:07.594168600Z"
    },
    "collapsed": false
   },
   "outputs": [
    {
     "data": {
      "image/png": "[encoded data removed]",
      "text/plain": [
       "<Figure size 640x480 with 1 Axes>"
      ]
     },
     "metadata": {},
     "output_type": "display_data"
    }
   ],
   "source": [
    "boxplot = df_len_uniq.boxplot(column=['length'])\n",
    "plt.title('Distribution of Protein Lengths')\n",
    "plt.ylabel('N° of aminoacids')\n",
    "plt.savefig('Boxplot.png')"
   ]
  }
 ],
 "metadata": {
  "kernelspec": {
   "display_name": "Python 3 (ipykernel)",
   "language": "python",
   "name": "python3"
  },
  "language_info": {
   "codemirror_mode": {
    "name": "ipython",
    "version": 3
   },
   "file_extension": ".py",
   "mimetype": "text/x-python",
   "name": "python",
   "nbconvert_exporter": "python",
   "pygments_lexer": "ipython3",
   "version": "3.11.7"
  }
 },
 "nbformat": 4,
 "nbformat_minor": 5
}
