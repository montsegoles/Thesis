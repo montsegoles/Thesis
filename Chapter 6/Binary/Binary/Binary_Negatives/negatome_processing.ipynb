{
 "cells": [
  {
   "cell_type": "markdown",
   "id": "9304123e-ea9b-4913-8f66-bd88bd8a6973",
   "metadata": {},
   "source": [
    "# Primero se sacan los duplicados del orden original"
   ]
  },
  {
   "cell_type": "code",
   "execution_count": 4,
   "id": "5224f9ba-72cb-4680-a64b-646eb505b545",
   "metadata": {},
   "outputs": [
    {
     "data": {
      "text/html": [
       "<div>\n",
       "<style scoped>\n",
       "    .dataframe tbody tr th:only-of-type {\n",
       "        vertical-align: middle;\n",
       "    }\n",
       "\n",
       "    .dataframe tbody tr th {\n",
       "        vertical-align: top;\n",
       "    }\n",
       "\n",
       "    .dataframe thead th {\n",
       "        text-align: right;\n",
       "    }\n",
       "</style>\n",
       "<table border=\"1\" class=\"dataframe\">\n",
       "  <thead>\n",
       "    <tr style=\"text-align: right;\">\n",
       "      <th></th>\n",
       "      <th>id_1</th>\n",
       "      <th>seq_1</th>\n",
       "      <th>id_2</th>\n",
       "      <th>seq_2</th>\n",
       "    </tr>\n",
       "  </thead>\n",
       "  <tbody>\n",
       "    <tr>\n",
       "      <th>0</th>\n",
       "      <td>A7MB62</td>\n",
       "      <td>MDSQGRKVVVCDNGTGFVKCGYAGSNFPEHIFPALVGRPIIRSTTK...</td>\n",
       "      <td>Q3MHR7</td>\n",
       "      <td>MILLEVNNRIIEETLALKFENAAAGNKPEAVEVTFADFDGVLYHIS...</td>\n",
       "    </tr>\n",
       "    <tr>\n",
       "      <th>19</th>\n",
       "      <td>A7MB62</td>\n",
       "      <td>MDSQGRKVVVCDNGTGFVKCGYAGSNFPEHIFPALVGRPIIRSTTK...</td>\n",
       "      <td>Q3T035</td>\n",
       "      <td>MPAYHSSLMDPDTKLIGNMALLPIRSQFKGPAPRETKDTDIVDEAI...</td>\n",
       "    </tr>\n",
       "    <tr>\n",
       "      <th>38</th>\n",
       "      <td>C6E9R4</td>\n",
       "      <td>MSMSTSTEVIAHHWAFAIFLIVAIGLCCLMLVGGWFLGGRARARSK...</td>\n",
       "      <td>C6E9S4</td>\n",
       "      <td>MNMLALTIILPLIGFVLLAFSRGRWSENVSAIVGVGSVGLAALVTA...</td>\n",
       "    </tr>\n",
       "    <tr>\n",
       "      <th>39</th>\n",
       "      <td>C6E9R4</td>\n",
       "      <td>MSMSTSTEVIAHHWAFAIFLIVAIGLCCLMLVGGWFLGGRARARSK...</td>\n",
       "      <td>C6E9S5</td>\n",
       "      <td>MLLPWLILIPFIGGFLCWQTERFGVKVPRWIALITMGLTLALSLQL...</td>\n",
       "    </tr>\n",
       "    <tr>\n",
       "      <th>40</th>\n",
       "      <td>C6E9S2</td>\n",
       "      <td>MEFAFYICGLIAILATLRVITHTNPVHALLYLIISLLAISGVFFSL...</td>\n",
       "      <td>C6E9S5</td>\n",
       "      <td>MLLPWLILIPFIGGFLCWQTERFGVKVPRWIALITMGLTLALSLQL...</td>\n",
       "    </tr>\n",
       "    <tr>\n",
       "      <th>...</th>\n",
       "      <td>...</td>\n",
       "      <td>...</td>\n",
       "      <td>...</td>\n",
       "      <td>...</td>\n",
       "    </tr>\n",
       "    <tr>\n",
       "      <th>15572</th>\n",
       "      <td>Q9R1P3</td>\n",
       "      <td>MEYLIGIQGPDYVLVASDRVAASNIVQMKDDHDKMFKMSEKILLLC...</td>\n",
       "      <td>Q9R1P4</td>\n",
       "      <td>MFRNQYDNDVTVWSPQGRIHQIEYAMEAVKQGSATVGLKSKTHAVL...</td>\n",
       "    </tr>\n",
       "    <tr>\n",
       "      <th>15576</th>\n",
       "      <td>Q9R1P3</td>\n",
       "      <td>MEYLIGIQGPDYVLVASDRVAASNIVQMKDDHDKMFKMSEKILLLC...</td>\n",
       "      <td>Q9Z2U1</td>\n",
       "      <td>MFLTRSEYDRGVNTFSPEGRLFQVEYAIEAIKLGSTAIGIQTSEGV...</td>\n",
       "    </tr>\n",
       "    <tr>\n",
       "      <th>15580</th>\n",
       "      <td>Q9R1P4</td>\n",
       "      <td>MFRNQYDNDVTVWSPQGRIHQIEYAMEAVKQGSATVGLKSKTHAVL...</td>\n",
       "      <td>Q9Z2U0</td>\n",
       "      <td>MSYDRAITVFSPDGHLFQVEYAQEAVKKGSTAVGVRGKDIVVLGVA...</td>\n",
       "    </tr>\n",
       "    <tr>\n",
       "      <th>15585</th>\n",
       "      <td>Q9S831</td>\n",
       "      <td>PKRGSKVKILRRESYWFKNVGSVVAVDQDPKTRYPVVVRFAKVNYA...</td>\n",
       "      <td>Q9SY97</td>\n",
       "      <td>WLAYGEIINGRFAMLGAAGAIAPEILGKAGLIPAETALPWFQTGVI...</td>\n",
       "    </tr>\n",
       "    <tr>\n",
       "      <th>15588</th>\n",
       "      <td>O15234</td>\n",
       "      <td>PQRSVEGWILFVTGVHEEATEEDIHDKFAEYGEIKNIHLNLDRRTG...</td>\n",
       "      <td>Q9Y5S9</td>\n",
       "      <td>DTKSTVTGERQSGDGQESTEPVENKVGKKGPKHLDDDEDRKNPAYI...</td>\n",
       "    </tr>\n",
       "  </tbody>\n",
       "</table>\n",
       "<p>2234 rows × 4 columns</p>\n",
       "</div>"
      ],
      "text/plain": [
       "         id_1                                              seq_1    id_2  \\\n",
       "0      A7MB62  MDSQGRKVVVCDNGTGFVKCGYAGSNFPEHIFPALVGRPIIRSTTK...  Q3MHR7   \n",
       "19     A7MB62  MDSQGRKVVVCDNGTGFVKCGYAGSNFPEHIFPALVGRPIIRSTTK...  Q3T035   \n",
       "38     C6E9R4  MSMSTSTEVIAHHWAFAIFLIVAIGLCCLMLVGGWFLGGRARARSK...  C6E9S4   \n",
       "39     C6E9R4  MSMSTSTEVIAHHWAFAIFLIVAIGLCCLMLVGGWFLGGRARARSK...  C6E9S5   \n",
       "40     C6E9S2  MEFAFYICGLIAILATLRVITHTNPVHALLYLIISLLAISGVFFSL...  C6E9S5   \n",
       "...       ...                                                ...     ...   \n",
       "15572  Q9R1P3  MEYLIGIQGPDYVLVASDRVAASNIVQMKDDHDKMFKMSEKILLLC...  Q9R1P4   \n",
       "15576  Q9R1P3  MEYLIGIQGPDYVLVASDRVAASNIVQMKDDHDKMFKMSEKILLLC...  Q9Z2U1   \n",
       "15580  Q9R1P4  MFRNQYDNDVTVWSPQGRIHQIEYAMEAVKQGSATVGLKSKTHAVL...  Q9Z2U0   \n",
       "15585  Q9S831  PKRGSKVKILRRESYWFKNVGSVVAVDQDPKTRYPVVVRFAKVNYA...  Q9SY97   \n",
       "15588  O15234  PQRSVEGWILFVTGVHEEATEEDIHDKFAEYGEIKNIHLNLDRRTG...  Q9Y5S9   \n",
       "\n",
       "                                                   seq_2  \n",
       "0      MILLEVNNRIIEETLALKFENAAAGNKPEAVEVTFADFDGVLYHIS...  \n",
       "19     MPAYHSSLMDPDTKLIGNMALLPIRSQFKGPAPRETKDTDIVDEAI...  \n",
       "38     MNMLALTIILPLIGFVLLAFSRGRWSENVSAIVGVGSVGLAALVTA...  \n",
       "39     MLLPWLILIPFIGGFLCWQTERFGVKVPRWIALITMGLTLALSLQL...  \n",
       "40     MLLPWLILIPFIGGFLCWQTERFGVKVPRWIALITMGLTLALSLQL...  \n",
       "...                                                  ...  \n",
       "15572  MFRNQYDNDVTVWSPQGRIHQIEYAMEAVKQGSATVGLKSKTHAVL...  \n",
       "15576  MFLTRSEYDRGVNTFSPEGRLFQVEYAIEAIKLGSTAIGIQTSEGV...  \n",
       "15580  MSYDRAITVFSPDGHLFQVEYAQEAVKKGSTAVGVRGKDIVVLGVA...  \n",
       "15585  WLAYGEIINGRFAMLGAAGAIAPEILGKAGLIPAETALPWFQTGVI...  \n",
       "15588  DTKSTVTGERQSGDGQESTEPVENKVGKKGPKHLDDDEDRKNPAYI...  \n",
       "\n",
       "[2234 rows x 4 columns]"
      ]
     },
     "execution_count": 4,
     "metadata": {},
     "output_type": "execute_result"
    }
   ],
   "source": [
    "import pandas as pd\n",
    "import numpy as np\n",
    "\n",
    "# Read the original CSV file\n",
    "\n",
    "df_pos_negatome = pd.read_csv(\"../Inputs/Negatome_Raw.csv\", sep=';')\n",
    "df_pos_negatome.columns = ['id_1', 'seq_1', 'id_2', 'seq_2']\n",
    "\n",
    "df_pos_negatome[['id_1', 'id_2']] = pd.DataFrame(np.sort(df_pos_negatome[['id_1', 'id_2']], axis=1), columns=['id_1', 'id_2'])\n",
    "\n",
    "# Drop duplicate rows\n",
    "df_negatome = df_pos_negatome.drop_duplicates(subset=['id_1','id_2'])\n",
    "df_negatome"
   ]
  },
  {
   "cell_type": "markdown",
   "id": "c9ba8684-dba2-4df7-83b0-f3e19699ce8f",
   "metadata": {},
   "source": [
    "# Se revisa que no hayan NaN ni duplicados"
   ]
  },
  {
   "cell_type": "code",
   "execution_count": 5,
   "id": "ce4f0234-b02f-4084-9f55-34a26c5d2118",
   "metadata": {},
   "outputs": [
    {
     "name": "stdout",
     "output_type": "stream",
     "text": [
      "No Hay valores nulos\n",
      "No duplicate interactions found.\n"
     ]
    },
    {
     "name": "stderr",
     "output_type": "stream",
     "text": [
      "C:\\Users\\julia\\AppData\\Local\\Temp\\ipykernel_15224\\402419657.py:5: SettingWithCopyWarning: \n",
      "A value is trying to be set on a copy of a slice from a DataFrame\n",
      "\n",
      "See the caveats in the documentation: https://pandas.pydata.org/pandas-docs/stable/user_guide/indexing.html#returning-a-view-versus-a-copy\n",
      "  df_negatome.dropna(inplace=True)\n"
     ]
    }
   ],
   "source": [
    "if (df_negatome.isnull().values.any()) == True:\n",
    "    print(\"Hay valores nulos\")\n",
    "    \n",
    "#Si hay valores nulos se dropean\n",
    "df_negatome.dropna(inplace=True)\n",
    "\n",
    "#Ya no hay valores nulos\n",
    "if (df_negatome.isnull().values.any()) == False:\n",
    "    print(\"No Hay valores nulos\")\n",
    "\n",
    "# Check if there are any duplicate interactions left\n",
    "duplicate_interactions = df_negatome[df_negatome.duplicated(subset=['id_1', 'id_2'])]\n",
    "\n",
    "if duplicate_interactions.empty:\n",
    "    print(\"No duplicate interactions found.\")\n",
    "else:\n",
    "    print(\"Duplicate interactions found:\")\n",
    "    print(duplicate_interactions) "
   ]
  },
  {
   "cell_type": "markdown",
   "id": "43196cb6-f669-4b0c-8512-3484f9895429",
   "metadata": {},
   "source": [
    "# Se agrega el O y el Database de donde vienen"
   ]
  },
  {
   "cell_type": "code",
   "execution_count": 6,
   "id": "34d3d43d-184f-4dfe-b803-276e0374af97",
   "metadata": {
    "scrolled": true
   },
   "outputs": [
    {
     "name": "stderr",
     "output_type": "stream",
     "text": [
      "C:\\Users\\julia\\AppData\\Local\\Temp\\ipykernel_15224\\3190080670.py:2: SettingWithCopyWarning: \n",
      "A value is trying to be set on a copy of a slice from a DataFrame.\n",
      "Try using .loc[row_indexer,col_indexer] = value instead\n",
      "\n",
      "See the caveats in the documentation: https://pandas.pydata.org/pandas-docs/stable/user_guide/indexing.html#returning-a-view-versus-a-copy\n",
      "  df_negatome['dataset'] = 'negatome'\n",
      "C:\\Users\\julia\\AppData\\Local\\Temp\\ipykernel_15224\\3190080670.py:3: SettingWithCopyWarning: \n",
      "A value is trying to be set on a copy of a slice from a DataFrame.\n",
      "Try using .loc[row_indexer,col_indexer] = value instead\n",
      "\n",
      "See the caveats in the documentation: https://pandas.pydata.org/pandas-docs/stable/user_guide/indexing.html#returning-a-view-versus-a-copy\n",
      "  df_negatome['Interaccion'] = 0\n"
     ]
    }
   ],
   "source": [
    "#Para poner el cero de que es negativa la interacción\n",
    "df_negatome['dataset'] = 'negatome'\n",
    "df_negatome['Interaccion'] = 0"
   ]
  },
  {
   "cell_type": "markdown",
   "id": "dfdfe1fe-9dd5-453c-a854-0e5bff38d5bf",
   "metadata": {},
   "source": [
    "# Se ven los ids unicos y las seq unicas"
   ]
  },
  {
   "cell_type": "code",
   "execution_count": 7,
   "id": "7007557f-986b-40b3-a037-91d1d5a3d6b8",
   "metadata": {},
   "outputs": [
    {
     "name": "stdout",
     "output_type": "stream",
     "text": [
      "<class 'pandas.core.frame.DataFrame'>\n",
      "RangeIndex: 598 entries, 0 to 597\n",
      "Data columns (total 2 columns):\n",
      " #   Column  Non-Null Count  Dtype \n",
      "---  ------  --------------  ----- \n",
      " 0   id_seq  598 non-null    object\n",
      " 1   seq     598 non-null    object\n",
      "dtypes: object(2)\n",
      "memory usage: 9.5+ KB\n",
      "<class 'pandas.core.frame.DataFrame'>\n",
      "RangeIndex: 699 entries, 0 to 698\n",
      "Data columns (total 2 columns):\n",
      " #   Column  Non-Null Count  Dtype \n",
      "---  ------  --------------  ----- \n",
      " 0   id_seq  699 non-null    object\n",
      " 1   seq     699 non-null    object\n",
      "dtypes: object(2)\n",
      "memory usage: 11.1+ KB\n"
     ]
    }
   ],
   "source": [
    "df_1 = df_negatome.filter(['id_1','seq_1'], axis=1)\n",
    "df_1.columns = ['id_seq','seq']\n",
    "\n",
    "df_2 = df_negatome.filter(['id_2','seq_2'], axis=1)\n",
    "df_2.columns = ['id_seq','seq']\n",
    "\n",
    "#concatenar\n",
    "df_all_seq = pd.concat([df_1, df_2])\n",
    "\n",
    "df_unique_id = df_all_seq.drop_duplicates(subset=['id_seq'],ignore_index=True)\n",
    "df_unique_id.info()\n",
    "\n",
    "df_unique_seq = df_all_seq.drop_duplicates(subset=['seq'],ignore_index=True)\n",
    "df_unique_seq.info()\n",
    "\n",
    "\n",
    "#df_unique_id.to_csv('unique_ids_negatome_negatives.csv', index_label=False, index=False, encoding='utf-8')\n",
    "#df_unique_seq.to_csv('unique_seq_negatome_negatives.csv', index_label=False, index=False, encoding='utf-8')"
   ]
  },
  {
   "cell_type": "markdown",
   "id": "d3d82203-b99b-49e3-ad35-ebb94f2b7864",
   "metadata": {},
   "source": [
    "# Se filta para para que queden ids unicos con secuencias unicas"
   ]
  },
  {
   "cell_type": "code",
   "execution_count": 8,
   "id": "49911cf8-158d-40e7-a2a8-d6e665cad3fa",
   "metadata": {
    "scrolled": true
   },
   "outputs": [
    {
     "name": "stdout",
     "output_type": "stream",
     "text": [
      "598\n",
      "699\n",
      "         id_1                                              seq_1    id_2  \\\n",
      "0      A7MB62  MDSQGRKVVVCDNGTGFVKCGYAGSNFPEHIFPALVGRPIIRSTTK...  Q3MHR7   \n",
      "19     A7MB62  MDSQGRKVVVCDNGTGFVKCGYAGSNFPEHIFPALVGRPIIRSTTK...  Q3T035   \n",
      "38     C6E9R4  MSMSTSTEVIAHHWAFAIFLIVAIGLCCLMLVGGWFLGGRARARSK...  C6E9S4   \n",
      "39     C6E9R4  MSMSTSTEVIAHHWAFAIFLIVAIGLCCLMLVGGWFLGGRARARSK...  C6E9S5   \n",
      "40     C6E9S2  MEFAFYICGLIAILATLRVITHTNPVHALLYLIISLLAISGVFFSL...  C6E9S5   \n",
      "...       ...                                                ...     ...   \n",
      "15572  Q9R1P3  MEYLIGIQGPDYVLVASDRVAASNIVQMKDDHDKMFKMSEKILLLC...  Q9R1P4   \n",
      "15576  Q9R1P3  MEYLIGIQGPDYVLVASDRVAASNIVQMKDDHDKMFKMSEKILLLC...  Q9Z2U1   \n",
      "15580  Q9R1P4  MFRNQYDNDVTVWSPQGRIHQIEYAMEAVKQGSATVGLKSKTHAVL...  Q9Z2U0   \n",
      "15585  Q9S831  PKRGSKVKILRRESYWFKNVGSVVAVDQDPKTRYPVVVRFAKVNYA...  Q9SY97   \n",
      "15588  O15234  PQRSVEGWILFVTGVHEEATEEDIHDKFAEYGEIKNIHLNLDRRTG...  Q9Y5S9   \n",
      "\n",
      "                                                   seq_2   dataset  \\\n",
      "0      MILLEVNNRIIEETLALKFENAAAGNKPEAVEVTFADFDGVLYHIS...  negatome   \n",
      "19     MPAYHSSLMDPDTKLIGNMALLPIRSQFKGPAPRETKDTDIVDEAI...  negatome   \n",
      "38     MNMLALTIILPLIGFVLLAFSRGRWSENVSAIVGVGSVGLAALVTA...  negatome   \n",
      "39     MLLPWLILIPFIGGFLCWQTERFGVKVPRWIALITMGLTLALSLQL...  negatome   \n",
      "40     MLLPWLILIPFIGGFLCWQTERFGVKVPRWIALITMGLTLALSLQL...  negatome   \n",
      "...                                                  ...       ...   \n",
      "15572  MFRNQYDNDVTVWSPQGRIHQIEYAMEAVKQGSATVGLKSKTHAVL...  negatome   \n",
      "15576  MFLTRSEYDRGVNTFSPEGRLFQVEYAIEAIKLGSTAIGIQTSEGV...  negatome   \n",
      "15580  MSYDRAITVFSPDGHLFQVEYAQEAVKKGSTAVGVRGKDIVVLGVA...  negatome   \n",
      "15585  WLAYGEIINGRFAMLGAAGAIAPEILGKAGLIPAETALPWFQTGVI...  negatome   \n",
      "15588  DTKSTVTGERQSGDGQESTEPVENKVGKKGPKHLDDDEDRKNPAYI...  negatome   \n",
      "\n",
      "       Interaccion  \n",
      "0                0  \n",
      "19               0  \n",
      "38               0  \n",
      "39               0  \n",
      "40               0  \n",
      "...            ...  \n",
      "15572            0  \n",
      "15576            0  \n",
      "15580            0  \n",
      "15585            0  \n",
      "15588            0  \n",
      "\n",
      "[2234 rows x 6 columns]\n",
      "         id_1                                              seq_1    id_2  \\\n",
      "0      A7MB62  MDSQGRKVVVCDNGTGFVKCGYAGSNFPEHIFPALVGRPIIRSTTK...  Q3MHR7   \n",
      "19     A7MB62  MDSQGRKVVVCDNGTGFVKCGYAGSNFPEHIFPALVGRPIIRSTTK...  Q3T035   \n",
      "38     C6E9R4  MSMSTSTEVIAHHWAFAIFLIVAIGLCCLMLVGGWFLGGRARARSK...  C6E9S4   \n",
      "39     C6E9R4  MSMSTSTEVIAHHWAFAIFLIVAIGLCCLMLVGGWFLGGRARARSK...  C6E9S5   \n",
      "40     C6E9S2  MEFAFYICGLIAILATLRVITHTNPVHALLYLIISLLAISGVFFSL...  C6E9S5   \n",
      "...       ...                                                ...     ...   \n",
      "15572  Q9R1P3  MEYLIGIQGPDYVLVASDRVAASNIVQMKDDHDKMFKMSEKILLLC...  Q9R1P4   \n",
      "15576  Q9R1P3  MEYLIGIQGPDYVLVASDRVAASNIVQMKDDHDKMFKMSEKILLLC...  Q9Z2U1   \n",
      "15580  Q9R1P4  MFRNQYDNDVTVWSPQGRIHQIEYAMEAVKQGSATVGLKSKTHAVL...  Q9Z2U0   \n",
      "15585  Q9S831  PKRGSKVKILRRESYWFKNVGSVVAVDQDPKTRYPVVVRFAKVNYA...  Q9SY97   \n",
      "15588  O15234  PQRSVEGWILFVTGVHEEATEEDIHDKFAEYGEIKNIHLNLDRRTG...  Q9Y5S9   \n",
      "\n",
      "                                                   seq_2   dataset  \\\n",
      "0      MILLEVNNRIIEETLALKFENAAAGNKPEAVEVTFADFDGVLYHIS...  negatome   \n",
      "19     MPAYHSSLMDPDTKLIGNMALLPIRSQFKGPAPRETKDTDIVDEAI...  negatome   \n",
      "38     MNMLALTIILPLIGFVLLAFSRGRWSENVSAIVGVGSVGLAALVTA...  negatome   \n",
      "39     MLLPWLILIPFIGGFLCWQTERFGVKVPRWIALITMGLTLALSLQL...  negatome   \n",
      "40     MLLPWLILIPFIGGFLCWQTERFGVKVPRWIALITMGLTLALSLQL...  negatome   \n",
      "...                                                  ...       ...   \n",
      "15572  MFRNQYDNDVTVWSPQGRIHQIEYAMEAVKQGSATVGLKSKTHAVL...  negatome   \n",
      "15576  MFLTRSEYDRGVNTFSPEGRLFQVEYAIEAIKLGSTAIGIQTSEGV...  negatome   \n",
      "15580  MSYDRAITVFSPDGHLFQVEYAQEAVKKGSTAVGVRGKDIVVLGVA...  negatome   \n",
      "15585  WLAYGEIINGRFAMLGAAGAIAPEILGKAGLIPAETALPWFQTGVI...  negatome   \n",
      "15588  DTKSTVTGERQSGDGQESTEPVENKVGKKGPKHLDDDEDRKNPAYI...  negatome   \n",
      "\n",
      "       Interaccion  \n",
      "0                0  \n",
      "19               0  \n",
      "38               0  \n",
      "39               0  \n",
      "40               0  \n",
      "...            ...  \n",
      "15572            0  \n",
      "15576            0  \n",
      "15580            0  \n",
      "15585            0  \n",
      "15588            0  \n",
      "\n",
      "[2234 rows x 6 columns]\n"
     ]
    }
   ],
   "source": [
    "#IDS\n",
    "id = pd.read_csv(\"../Outputs/unique_ids_negatome_negatives.csv\", sep=',')\n",
    "lista_valores = id['id_seq']\n",
    "print(len(id['id_seq']))\n",
    "\n",
    "seq = pd.read_csv(\"../Outputs/unique_seq_negatome_negatives.csv\", sep=',')\n",
    "lista_valores_x = seq['seq']\n",
    "print(len(seq['seq']))\n",
    "\n",
    "df_filtrado = df_negatome[df_negatome['id_1'].isin(lista_valores)]\n",
    "df_filtrado_2 = df_filtrado[df_filtrado['id_2'].isin(lista_valores)]\n",
    "print(df_filtrado_2)\n",
    "\n",
    "df_filtrado_x = df_filtrado_2[df_filtrado_2['seq_1'].isin(lista_valores_x)]\n",
    "df_filtrado_y = df_filtrado_x[df_filtrado_x['seq_2'].isin(lista_valores_x)]\n",
    "print(df_filtrado_y)\n",
    "\n",
    "if (df_filtrado_y.isnull().values.any()) == True:\n",
    "    print(\"Hay valores nulos\")\n",
    "\n",
    "#df_filtrado_y.to_csv('negatome_negatives_Refined.csv', index_label=False, index=False, encoding='utf-8')"
   ]
  },
  {
   "cell_type": "markdown",
   "id": "0b4f35fa-b06b-4ccd-8f9a-c752c65d0b7a",
   "metadata": {},
   "source": [
    "# Se revisa denuevo si es que hay duplicados"
   ]
  },
  {
   "cell_type": "code",
   "execution_count": 9,
   "id": "88b4e8bd-d485-4af9-8107-33e2a23700e0",
   "metadata": {},
   "outputs": [
    {
     "name": "stdout",
     "output_type": "stream",
     "text": [
      "No duplicate interactions found.\n"
     ]
    }
   ],
   "source": [
    "duplicate = df_filtrado_y[df_filtrado_y.duplicated(subset=['id_1', 'id_2'])]\n",
    "\n",
    "if duplicate_interactions.empty:\n",
    "    print(\"No duplicate interactions found.\")\n",
    "else:\n",
    "    print(\"Duplicate interactions found:\")\n",
    "    print(duplicate_interactions) "
   ]
  },
  {
   "cell_type": "code",
   "execution_count": 10,
   "id": "00f4c08e-210b-48f2-82d4-f6c9bfbd78c8",
   "metadata": {},
   "outputs": [
    {
     "data": {
      "text/html": [
       "<div>\n",
       "<style scoped>\n",
       "    .dataframe tbody tr th:only-of-type {\n",
       "        vertical-align: middle;\n",
       "    }\n",
       "\n",
       "    .dataframe tbody tr th {\n",
       "        vertical-align: top;\n",
       "    }\n",
       "\n",
       "    .dataframe thead th {\n",
       "        text-align: right;\n",
       "    }\n",
       "</style>\n",
       "<table border=\"1\" class=\"dataframe\">\n",
       "  <thead>\n",
       "    <tr style=\"text-align: right;\">\n",
       "      <th></th>\n",
       "      <th>0</th>\n",
       "    </tr>\n",
       "  </thead>\n",
       "  <tbody>\n",
       "    <tr>\n",
       "      <th>count</th>\n",
       "      <td>598.000000</td>\n",
       "    </tr>\n",
       "    <tr>\n",
       "      <th>mean</th>\n",
       "      <td>187.449833</td>\n",
       "    </tr>\n",
       "    <tr>\n",
       "      <th>std</th>\n",
       "      <td>198.601965</td>\n",
       "    </tr>\n",
       "    <tr>\n",
       "      <th>min</th>\n",
       "      <td>5.000000</td>\n",
       "    </tr>\n",
       "    <tr>\n",
       "      <th>25%</th>\n",
       "      <td>65.000000</td>\n",
       "    </tr>\n",
       "    <tr>\n",
       "      <th>50%</th>\n",
       "      <td>138.000000</td>\n",
       "    </tr>\n",
       "    <tr>\n",
       "      <th>75%</th>\n",
       "      <td>240.000000</td>\n",
       "    </tr>\n",
       "    <tr>\n",
       "      <th>max</th>\n",
       "      <td>1752.000000</td>\n",
       "    </tr>\n",
       "  </tbody>\n",
       "</table>\n",
       "</div>"
      ],
      "text/plain": [
       "                 0\n",
       "count   598.000000\n",
       "mean    187.449833\n",
       "std     198.601965\n",
       "min       5.000000\n",
       "25%      65.000000\n",
       "50%     138.000000\n",
       "75%     240.000000\n",
       "max    1752.000000"
      ]
     },
     "execution_count": 10,
     "metadata": {},
     "output_type": "execute_result"
    }
   ],
   "source": [
    "lista_valores_x = id['seq']\n",
    "Large = []\n",
    "for i in range(0,len(lista_valores_x)):\n",
    "    Large.append(len(lista_valores_x[i]))\n",
    "    \n",
    "df_large = pd.DataFrame(Large)\n",
    "df_large\n",
    "df_large.describe()"
   ]
  },
  {
   "cell_type": "code",
   "execution_count": 13,
   "id": "ae33da3c-f24d-4ead-bd07-d4f81b05e15d",
   "metadata": {},
   "outputs": [
    {
     "data": {
      "image/png": "[encoded data removed]",
      "text/plain": [
       "<Figure size 640x480 with 1 Axes>"
      ]
     },
     "metadata": {},
     "output_type": "display_data"
    }
   ],
   "source": [
    "import matplotlib.pyplot as plt\n",
    "\n",
    "# Crea el boxplot\n",
    "plt.boxplot(Large)\n",
    "\n",
    "# Personaliza el gráfico (opcional)\n",
    "plt.title(\"Largos de secuencias únicas Negatome\")\n",
    "plt.ylabel(\"Largos\")\n",
    "\n",
    "# Muestra el gráfico\n",
    "#plt.savefig('boxplot.png')\n",
    "plt.show()\n"
   ]
  },
  {
   "cell_type": "code",
   "execution_count": 14,
   "id": "66848bc5-931c-4bc2-9616-2d9a12ded8d6",
   "metadata": {},
   "outputs": [
    {
     "data": {
      "image/png": "[encoded data removed]",
      "text/plain": [
       "<Figure size 640x480 with 1 Axes>"
      ]
     },
     "metadata": {},
     "output_type": "display_data"
    }
   ],
   "source": [
    "import numpy as np\n",
    "import matplotlib.pyplot as plt\n",
    "\n",
    "# Crear un histograma para la distribución normal\n",
    "plt.hist(Large, bins=30, density=False, alpha=0.3, color='b')\n",
    "plt.xlabel('Largo')\n",
    "plt.ylabel('Frecuencia')\n",
    "plt.title('Histograma de la frecuencia de Largos de secuencias únicas Negatome')\n",
    "plt.show()"
   ]
  },
  {
   "cell_type": "code",
   "execution_count": 15,
   "id": "b17ba73a-4ae8-42a7-b146-9dcbb2909168",
   "metadata": {
    "scrolled": true
   },
   "outputs": [
    {
     "data": {
      "image/png": "[encoded data removed]",
      "text/plain": [
       "<Figure size 1000x600 with 1 Axes>"
      ]
     },
     "metadata": {},
     "output_type": "display_data"
    }
   ],
   "source": [
    "plt.figure(figsize=(10, 6))\n",
    "plt.hist(Large, bins=np.logspace(0, 5, 30), color='skyblue', edgecolor='black')\n",
    "plt.xscale('log')\n",
    "plt.title('Distribution of Protein Lengths (Log Scale)')\n",
    "plt.xlabel('Length')\n",
    "plt.ylabel('Frequency')\n",
    "plt.grid(True)\n",
    "#plt.savefig('gauss.png')\n",
    "plt.show()"
   ]
  }
 ],
 "metadata": {
  "kernelspec": {
   "display_name": "Python 3 (ipykernel)",
   "language": "python",
   "name": "python3"
  },
  "language_info": {
   "codemirror_mode": {
    "name": "ipython",
    "version": 3
   },
   "file_extension": ".py",
   "mimetype": "text/x-python",
   "name": "python",
   "nbconvert_exporter": "python",
   "pygments_lexer": "ipython3",
   "version": "3.12.0"
  }
 },
 "nbformat": 4,
 "nbformat_minor": 5
}
