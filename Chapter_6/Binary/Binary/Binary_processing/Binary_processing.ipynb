{
 "cells": [
  {
   "cell_type": "markdown",
   "id": "07112017-d34d-49d7-a195-b7b47e9c928e",
   "metadata": {},
   "source": [
    "# Creamos el archivo de todos los binarios"
   ]
  },
  {
   "cell_type": "code",
   "execution_count": 1,
   "id": "5a2b0a42-e80a-4476-b1d7-5f83a02e64f4",
   "metadata": {},
   "outputs": [],
   "source": [
    "import pandas as pd\n",
    "df_1 = pd.read_csv(\"Positives_Refined.csv\", sep=',')\n",
    "df_1.columns = ['id_1', 'seq_1', 'id_2', 'seq_2', 'dataset', 'Interaccion']\n",
    "df_2 = pd.read_csv(\"negatome_negatives_Refined.csv\", sep=',')\n",
    "df_2.columns = ['id_1', 'seq_1', 'id_2', 'seq_2', 'dataset', 'Interaccion']\n",
    "\n",
    "df_pairs = pd.concat([df_1 , df_2], axis=0)\n"
   ]
  },
  {
   "cell_type": "markdown",
   "id": "abe5d38b-f9a5-42f1-97a3-ac85d74b1e3f",
   "metadata": {},
   "source": [
    "# Se revisa que no hayan duplicados"
   ]
  },
  {
   "cell_type": "code",
   "execution_count": 2,
   "id": "2b2d5b9b-499e-4d2c-9a24-2cb52ffd6d0f",
   "metadata": {},
   "outputs": [
    {
     "name": "stdout",
     "output_type": "stream",
     "text": [
      "No duplicate interactions found.\n"
     ]
    }
   ],
   "source": [
    "duplicate_interactions_binarias = df_1[df_1.duplicated(subset=['id_1', 'id_2'])]\n",
    "\n",
    "if duplicate_interactions_binarias.empty:\n",
    "    print(\"No duplicate interactions found.\")\n",
    "else:\n",
    "    print(\"Duplicate interactions found:\")\n",
    "    print(duplicate_interactions_binarias) "
   ]
  },
  {
   "cell_type": "code",
   "execution_count": 3,
   "id": "771cd238-a7a5-4ce8-96ef-19d70e69713e",
   "metadata": {},
   "outputs": [
    {
     "name": "stdout",
     "output_type": "stream",
     "text": [
      "No duplicate interactions found.\n"
     ]
    }
   ],
   "source": [
    "duplicate_interactions_binarias_2 = df_2[df_2.duplicated(subset=['id_1', 'id_2'])]\n",
    "\n",
    "if duplicate_interactions_binarias_2.empty:\n",
    "    print(\"No duplicate interactions found.\")\n",
    "else:\n",
    "    print(\"Duplicate interactions found:\")\n",
    "    print(duplicate_interactions_binarias_2) "
   ]
  },
  {
   "cell_type": "code",
   "execution_count": 4,
   "id": "85d0dae5-e594-48f1-9463-7b782a675a75",
   "metadata": {},
   "outputs": [
    {
     "name": "stdout",
     "output_type": "stream",
     "text": [
      "Duplicate interactions found:\n",
      "        id_1                                              seq_1    id_2  \\\n",
      "12    O00401  GSNFQHIGHVGWDPNTGFDLNNLDPELKNLFDMCGISEAQLKDRET...  Q9UHR4   \n",
      "13    O00512     NPDGLSQEQLEHRERSLQTLRDIQRMLFPDEKEFTGAQSGGPQQNP  Q9NQB0   \n",
      "67    O14745            CLDFNISLAMAKERAHQKRSSKRAPQMDWSKKNELFSNL  P26038   \n",
      "69    O14810  GPLGSKLPDAAKKFEEAQEALRQAEEERKAKYAKMEAEREAVRQGI...  P60880   \n",
      "70    O14893  MRRAELAGLKTMAWVPAESAVEELMPRLLPVEPCDLTEGFDPSVPP...  P62304   \n",
      "...      ...                                                ...     ...   \n",
      "2184  Q96B26  DPMAAGFKTVEPLEYYRRFLKENCRPDGRELGEFRTTTVNIGSIST...  Q9NQT5   \n",
      "2217  Q9NPD3  MADPMAGLELLSDQGYRVDGRRAGELRKIQARMGVFAQADGSAYIE...  Q9NQT4   \n",
      "2218  Q9NPD3  MADPMAGLELLSDQGYRVDGRRAGELRKIQARMGVFAQADGSAYIE...  Q9NQT5   \n",
      "2219  Q9NPD3  MADPMAGLELLSDQGYRVDGRRAGELRKIQARMGVFAQADGSAYIE...  Q9Y3B2   \n",
      "2233  O15234  PQRSVEGWILFVTGVHEEATEEDIHDKFAEYGEIKNIHLNLDRRTG...  Q9Y5S9   \n",
      "\n",
      "                                                  seq_2   dataset  Interaccion  \n",
      "12    GSHMKKQKVKTIFPHTAGSNKTLLSFAQGDVITLLIPEEKDGWLYG...  negatome            0  \n",
      "13    MPQLNGGGGDDLGANDELISFKDEGEQEEKSSENSSAERDLADVKS...  negatome            0  \n",
      "67    MPKTISVRVTTMDAELEFAIQPNTTGKQLFDQVVKTIGLREVWFFG...  negatome            0  \n",
      "69    GSHMMRNELEEMQRRADQLADESLESTRRMLQLVEESKDAGIRTLV...  negatome            0  \n",
      "70    MAYRGQGQKVQKVMVQPINLIFRYLQNRSRIQVWLYEQVNMRIEGC...  negatome            0  \n",
      "...                                                 ...       ...          ...  \n",
      "2184  MGSSHHHHHHSQDPMAEPASVAAESLAGSRARAARTVLGQVVLPGE...  negatome            0  \n",
      "2217  SLMEEETHTDAKIRAENGTGSSPRGPGCSLRHFACEQNLLSRPDGS...  negatome            0  \n",
      "2218  MGSSHHHHHHSQDPMAEPASVAAESLAGSRARAARTVLGQVVLPGE...  negatome            0  \n",
      "2219  MGSSHHHHHHSQDPMAPPVRYCIPGERLCNLEEGSPGSGTYTRHGY...  negatome            0  \n",
      "2233  DTKSTVTGERQSGDGQESTEPVENKVGKKGPKHLDDDEDRKNPAYI...  negatome            0  \n",
      "\n",
      "[197 rows x 6 columns]\n"
     ]
    },
    {
     "name": "stderr",
     "output_type": "stream",
     "text": [
      "C:\\Users\\julia\\AppData\\Local\\Temp\\ipykernel_9304\\303430205.py:12: SettingWithCopyWarning: \n",
      "A value is trying to be set on a copy of a slice from a DataFrame.\n",
      "Try using .loc[row_indexer,col_indexer] = value instead\n",
      "\n",
      "See the caveats in the documentation: https://pandas.pydata.org/pandas-docs/stable/user_guide/indexing.html#returning-a-view-versus-a-copy\n",
      "  duplicate_interactions_binarias_3['Duplicado positivo'] = True\n"
     ]
    }
   ],
   "source": [
    "duplicate_interactions_binarias_3 = df_pairs[df_pairs.duplicated(subset=['id_1', 'id_2'])]\n",
    "\n",
    "if duplicate_interactions_binarias_3.empty:\n",
    "    print(\"No duplicate interactions found.\")\n",
    "else:\n",
    "    print(\"Duplicate interactions found:\")\n",
    "    print(duplicate_interactions_binarias_3) \n",
    "\n",
    "#Como por si solos no hay repetidos, pero al unirlos si hay, se dropean todos, es decir, no se guarda ninguno.\n",
    "df_positives = df_pairs.drop_duplicates(subset=['id_1','id_2'], keep=False)\n",
    "\n",
    "duplicate_interactions_binarias_3['Duplicado positivo'] = True\n",
    "\n",
    "#Se guardan los duplicados\n",
    "duplicate_interactions_binarias_3.to_csv('Duplicated_Binary_Positives_and_Negatives.csv', index_label=False, index=False, encoding='utf-8')\n",
    "\n",
    "#Se guardan los refinados\n",
    "df_positives.to_csv('Binary_Positives_and_Negatives_Refined.csv', index_label=False, index=False, encoding='utf-8')"
   ]
  },
  {
   "cell_type": "code",
   "execution_count": 8,
   "id": "f84c4f9a-2c18-4484-ac40-142d7ba1d106",
   "metadata": {},
   "outputs": [
    {
     "name": "stdout",
     "output_type": "stream",
     "text": [
      "<class 'pandas.core.frame.DataFrame'>\n",
      "RangeIndex: 42920 entries, 0 to 42919\n",
      "Data columns (total 2 columns):\n",
      " #   Column  Non-Null Count  Dtype \n",
      "---  ------  --------------  ----- \n",
      " 0   id_seq  42920 non-null  object\n",
      " 1   seq     42920 non-null  object\n",
      "dtypes: object(2)\n",
      "memory usage: 670.8+ KB\n"
     ]
    }
   ],
   "source": [
    "df_N1 = df_positives.filter(['id_1','seq_1'], axis=1)\n",
    "df_N1.columns = ['id_seq','seq']\n",
    "\n",
    "df_N2 = df_positives.filter(['id_2','seq_2'], axis=1)\n",
    "df_N2.columns = ['id_seq','seq']\n",
    "\n",
    "#concatenar\n",
    "df_all_seq = pd.concat([df_N1, df_N2])\n",
    "\n",
    "df_unique_seq = df_all_seq.drop_duplicates(subset=['seq'],ignore_index=True)\n",
    "df_unique_seq.info()\n",
    "\n",
    "df_unique_seq.to_csv('unique_seq_binary.csv', index_label=False, index=False, encoding='utf-8')"
   ]
  },
  {
   "cell_type": "markdown",
   "id": "9ed62f7d-a5fa-4b8d-8434-d2918337e4f3",
   "metadata": {},
   "source": [
    "# Revisamos si hay alguna interacción binaria en PDBind, Skempi o Proximate"
   ]
  },
  {
   "cell_type": "markdown",
   "id": "299f74a8-fed3-4b23-ba68-05318917674b",
   "metadata": {},
   "source": [
    "## PDBbind"
   ]
  },
  {
   "cell_type": "code",
   "execution_count": 8,
   "id": "4271728c-5233-4dfd-b249-863764613377",
   "metadata": {},
   "outputs": [
    {
     "name": "stdout",
     "output_type": "stream",
     "text": [
      "No duplicate interactions found.\n",
      "Duplicate interactions found:\n",
      "                                                  seq_1  \\\n",
      "407   MPLSVGQGYFTSSISSEKFNAIKESARLPELSLWEKIKAYFFTTHH...   \n",
      "438   MPLSVGQGYFTSSISSEKFNAIKESARLPELSLWEKIKAYFFTTHH...   \n",
      "592   MERSLDSLAGMAKSAFGAGTSAAMRQATSPKTILEYIINFFTCGGI...   \n",
      "1034  MERSLDSLAGMAKSAFGAGTSAAMRQATSPKTILEYIINFFTCGGI...   \n",
      "1035  MERSLDSLAGMAKSAFGAGTSAAMRQATSPKTILEYIINFFTCGGI...   \n",
      "...                                                 ...   \n",
      "1     MDSQGRKVVVCDNGTGFVKCGYAGSNFPEHIFPALVGRPIIRSTTK...   \n",
      "2008  DEDETTALVCDNGSGLVKAGFAGDDAPRAVFPSIVGRPRHQGVMVG...   \n",
      "2056  MTATLRPYLSAVRATLQAALCLENFSSQVVERHNKPEVEVRSSKEL...   \n",
      "28    MENFQKVEKIGEGTYGVVYKARNKLTGEVVALKKIRLDTETEGVPS...   \n",
      "677   MGLLGILCFLIFLGKTWGQEQTYVISAPKIFRVGASENIVIQVYGY...   \n",
      "\n",
      "                                                  seq_2  \n",
      "407   MAAIRKKLVVVGDGACGKTCLLIVFSKDEFPEVYVPTVFENYVADI...  \n",
      "438   MAQNLKDLAGRLPAGPRGMGTALKLLLGAGAVAYGVRESVFTVEGG...  \n",
      "592   MNNQKQQKPTLSGQRFKTRKRDEKERFDPTQFQDCIIQGLTETGTD...  \n",
      "1034  MGKGVGRDKYEPAAVSEQGDKKGKKGKKDRDMDELKKEVSMDDHKL...  \n",
      "1035  MNLQPIFWIGLISSVCCVFAQTDENRCLKANAKSCGECIQAGPNCG...  \n",
      "...                                                 ...  \n",
      "1     MPAYHSSLMDPDTKLIGNMALLPIRSQFKGPAPRETKDTDIVDEAI...  \n",
      "2008  SKAAADDFKEAFLLFDRTGDAKITASQVGDIARALGQNPTNAEINK...  \n",
      "2056  MPAYHSSLMDPDTKLIGNMALLPIRSQFKGPAPRETKDTDIVDEAI...  \n",
      "28    MSHKQIYYSDKYDDEEFEYRHVMLPKDIAKLVPKTHLMSESEWRNL...  \n",
      "677   MERMALYLVAALLIGFPGSSHGALYTLITPAVLRTDTEEQILVEAH...  \n",
      "\n",
      "[1175 rows x 2 columns]\n"
     ]
    }
   ],
   "source": [
    "PDBbind = pd.read_csv(\"PDBbind_filtered.csv\", sep=',')\n",
    "PDBbind.columns = ['pdb complex','Kd [M]','protein_1_seq', 'protein_2_seq']\n",
    "\n",
    "#Se filtan los duplicados del mismo set de datos\n",
    "dd =PDBbind[PDBbind.duplicated(subset=['protein_1_seq', 'protein_2_seq'])]\n",
    "\n",
    "if dd.empty:\n",
    "    print(\"No duplicate interactions found.\")\n",
    "else:\n",
    "    print(\"Duplicate interactions found:\")\n",
    "    \n",
    "#Se dropean los duplicados del mismo set de datos y se guarda el refinado\n",
    "df_PDBbind_filt = PDBbind.drop_duplicates(subset=['protein_1_seq','protein_2_seq'])\n",
    "df_PDBbind_filt.to_csv('PDBbind_refined.csv', index_label=False, index=False, encoding='utf-8')\n",
    "    \n",
    "#Se trabaja en un nuevo dataframe\n",
    "df_PDBbind = pd.DataFrame()\n",
    "df_PDBbind['seq_1'] = df_PDBbind_filt['protein_1_seq']\n",
    "df_PDBbind['seq_2'] = df_PDBbind_filt['protein_2_seq']\n",
    "\n",
    "df_positivos = pd.DataFrame()\n",
    "df_positivos['seq_1'] = df_positives['seq_1']\n",
    "df_positivos['seq_2'] = df_positives['seq_2']\n",
    "\n",
    "df_bind = pd.concat([df_positivos, df_PDBbind], axis=0)\n",
    "\n",
    "duplicate_int = df_bind[df_bind.duplicated(subset=['seq_1', 'seq_2'])]\n",
    "\n",
    "if duplicate_int.empty:\n",
    "    print(\"No duplicate interactions found.\")\n",
    "else:\n",
    "    print(\"Duplicate interactions found:\")\n",
    "    print(duplicate_int)\n"
   ]
  },
  {
   "cell_type": "code",
   "execution_count": 9,
   "id": "f600e8f3-5eae-4be1-bd01-009042941078",
   "metadata": {},
   "outputs": [
    {
     "name": "stderr",
     "output_type": "stream",
     "text": [
      "C:\\Users\\julia\\AppData\\Local\\Temp\\ipykernel_17460\\2501871374.py:6: SettingWithCopyWarning: \n",
      "A value is trying to be set on a copy of a slice from a DataFrame.\n",
      "Try using .loc[row_indexer,col_indexer] = value instead\n",
      "\n",
      "See the caveats in the documentation: https://pandas.pydata.org/pandas-docs/stable/user_guide/indexing.html#returning-a-view-versus-a-copy\n",
      "  filas_con_valores['Repetido'] = 'PDBbind'\n"
     ]
    }
   ],
   "source": [
    "columnas_seleccionadas = ['seq_1', 'seq_2']\n",
    "resultado = df_positives[columnas_seleccionadas].isin(duplicate_int)\n",
    "filas_con_valores = df_positives[resultado.any(axis=1)]\n",
    "\n",
    "#Para poner donde se repite\n",
    "filas_con_valores['Repetido'] = 'PDBbind'\n",
    "filas_con_valores.to_csv('Repetidos_binarios_PDBbind.csv', index_label=False, index=False, encoding='utf-8')"
   ]
  },
  {
   "cell_type": "markdown",
   "id": "ebca67bb-93b6-455a-9850-e76c8ee834c2",
   "metadata": {},
   "source": [
    "## Skempi"
   ]
  },
  {
   "cell_type": "code",
   "execution_count": 10,
   "id": "db6587e5-079e-421d-affe-418d2e2a7899",
   "metadata": {},
   "outputs": [
    {
     "name": "stdout",
     "output_type": "stream",
     "text": [
      "Duplicate interactions found:\n",
      "Duplicate interactions found:\n",
      "                                                    seq_1  \\\n",
      "407     MPLSVGQGYFTSSISSEKFNAIKESARLPELSLWEKIKAYFFTTHH...   \n",
      "438     MPLSVGQGYFTSSISSEKFNAIKESARLPELSLWEKIKAYFFTTHH...   \n",
      "592     MERSLDSLAGMAKSAFGAGTSAAMRQATSPKTILEYIINFFTCGGI...   \n",
      "1034    MERSLDSLAGMAKSAFGAGTSAAMRQATSPKTILEYIINFFTCGGI...   \n",
      "1035    MERSLDSLAGMAKSAFGAGTSAAMRQATSPKTILEYIINFFTCGGI...   \n",
      "...                                                   ...   \n",
      "847289  MAFTNYSSLNRAQLTFEYLHTNSTTHEFLFGALAELVDNARDADAT...   \n",
      "1       MDSQGRKVVVCDNGTGFVKCGYAGSNFPEHIFPALVGRPIIRSTTK...   \n",
      "2008    DEDETTALVCDNGSGLVKAGFAGDDAPRAVFPSIVGRPRHQGVMVG...   \n",
      "2056    MTATLRPYLSAVRATLQAALCLENFSSQVVERHNKPEVEVRSSKEL...   \n",
      "14      RSSNELHQVPSNCDCLNGGTCVSNKYFSNIHWCNCPKKFGGQHCEI...   \n",
      "\n",
      "                                                    seq_2  \n",
      "407     MAAIRKKLVVVGDGACGKTCLLIVFSKDEFPEVYVPTVFENYVADI...  \n",
      "438     MAQNLKDLAGRLPAGPRGMGTALKLLLGAGAVAYGVRESVFTVEGG...  \n",
      "592     MNNQKQQKPTLSGQRFKTRKRDEKERFDPTQFQDCIIQGLTETGTD...  \n",
      "1034    MGKGVGRDKYEPAAVSEQGDKKGKKGKKDRDMDELKKEVSMDDHKL...  \n",
      "1035    MNLQPIFWIGLISSVCCVFAQTDENRCLKANAKSCGECIQAGPNCG...  \n",
      "...                                                   ...  \n",
      "847289  MAFTNYSSLNRAQLTFEYLHTNSTTHEFLFGALAELVDNARDADAT...  \n",
      "1       MPAYHSSLMDPDTKLIGNMALLPIRSQFKGPAPRETKDTDIVDEAI...  \n",
      "2008    SKAAADDFKEAFLLFDRTGDAKITASQVGDIARALGQNPTNAEINK...  \n",
      "2056    MPAYHSSLMDPDTKLIGNMALLPIRSQFKGPAPRETKDTDIVDEAI...  \n",
      "14               QESCKGRCTEGFNVDKKCQCDELCSYYQSCCTDYTAECKP  \n",
      "\n",
      "[1174 rows x 2 columns]\n"
     ]
    }
   ],
   "source": [
    "Skempi = pd.read_csv(\"skempi_final.csv\", sep=',')\n",
    "Skempi.columns = ['index','pdb complex','chain 1', 'chain 2', 'Affinity_wt (M)', 'Protein 1','Protein 2','protein_1_seq','protein_2_seq']\n",
    "\n",
    "df_Skempi = pd.DataFrame()\n",
    "df_Skempi['seq_1'] = Skempi['protein_1_seq']\n",
    "df_Skempi['seq_2'] = Skempi['protein_2_seq']\n",
    "\n",
    "#Se filtan los duplicados del mismo set de datos\n",
    "duplicate_skempi = Skempi[Skempi.duplicated(subset=['protein_1_seq', 'protein_2_seq'])]\n",
    "\n",
    "if duplicate_skempi.empty:\n",
    "    print(\"No duplicate interactions found.\")\n",
    "else:\n",
    "    print(\"Duplicate interactions found:\")\n",
    "\n",
    "duplicate_skempi.to_csv('Duplicated_skempi.csv', index_label=False, index=False, encoding='utf-8')\n",
    "\n",
    "#Se dropean los duplicados del mismo set de datos y se guarda el refinado\n",
    "\n",
    "df_Skempi_filt = df_Skempi.drop_duplicates(subset=['seq_1','seq_2'])\n",
    "df_Skempi_filt.to_csv('Skempi_refined.csv', index_label=False, index=False, encoding='utf-8')\n",
    "\n",
    "#Se trabaja en un nuevo dataframe\n",
    "df_skempi_unido = pd.concat([df_positivos, df_Skempi_filt], axis=0)\n",
    "duplicate = df_skempi_unido[df_skempi_unido.duplicated(subset=['seq_1', 'seq_2'])]\n",
    "\n",
    "if duplicate.empty:\n",
    "   print(\"No duplicate interactions found.\")\n",
    "else:\n",
    "    print(\"Duplicate interactions found:\")\n",
    "    print(duplicate)"
   ]
  },
  {
   "cell_type": "code",
   "execution_count": 11,
   "id": "a2707d31-e7a2-4404-96f7-6233b1786d89",
   "metadata": {},
   "outputs": [
    {
     "name": "stderr",
     "output_type": "stream",
     "text": [
      "C:\\Users\\julia\\AppData\\Local\\Temp\\ipykernel_17460\\4121356240.py:6: SettingWithCopyWarning: \n",
      "A value is trying to be set on a copy of a slice from a DataFrame.\n",
      "Try using .loc[row_indexer,col_indexer] = value instead\n",
      "\n",
      "See the caveats in the documentation: https://pandas.pydata.org/pandas-docs/stable/user_guide/indexing.html#returning-a-view-versus-a-copy\n",
      "  filas_con_valores_skempi['Repetido'] = 'Skempi'\n"
     ]
    }
   ],
   "source": [
    "columnas_seleccionadas = ['seq_1', 'seq_2']\n",
    "resultado_skempi = df_positives[columnas_seleccionadas].isin(duplicate)\n",
    "filas_con_valores_skempi = df_positives[resultado_skempi.any(axis=1)]\n",
    "\n",
    "#Para poner donde se repite\n",
    "filas_con_valores_skempi['Repetido'] = 'Skempi'\n",
    "filas_con_valores_skempi.to_csv('Repetidos_binarios_Skempi.csv', index_label=False, index=False, encoding='utf-8')\n"
   ]
  },
  {
   "cell_type": "markdown",
   "id": "77cd6eae-72f3-42d4-bbfc-c1e524a18d9c",
   "metadata": {},
   "source": [
    "## Proximate"
   ]
  },
  {
   "cell_type": "code",
   "execution_count": 12,
   "id": "386785cd-7132-4c09-81cb-bd063d4ca4ac",
   "metadata": {
    "scrolled": true
   },
   "outputs": [
    {
     "name": "stdout",
     "output_type": "stream",
     "text": [
      "Duplicate interactions found:\n",
      "Duplicate interactions found:\n"
     ]
    },
    {
     "name": "stderr",
     "output_type": "stream",
     "text": [
      "C:\\Users\\julia\\AppData\\Local\\Temp\\ipykernel_17460\\1743759654.py:40: SettingWithCopyWarning: \n",
      "A value is trying to be set on a copy of a slice from a DataFrame.\n",
      "Try using .loc[row_indexer,col_indexer] = value instead\n",
      "\n",
      "See the caveats in the documentation: https://pandas.pydata.org/pandas-docs/stable/user_guide/indexing.html#returning-a-view-versus-a-copy\n",
      "  filas_con_valores_Proximate['Repetido'] = 'Proximate'\n"
     ]
    }
   ],
   "source": [
    "Proximate = pd.read_csv(\"proximate_WT_final.csv\", sep=',')\n",
    "Proximate.columns = ['index','PDB','Wild-type KD (M)','protein_1_seq','protein_2_seq']\n",
    "\n",
    "#Se filtan los duplicados del mismo set de datos\n",
    "duplicate_Proximate = Proximate[Proximate.duplicated(subset=['protein_1_seq', 'protein_2_seq'])]\n",
    "\n",
    "if duplicate_Proximate.empty:\n",
    "    print(\"No duplicate interactions found.\")\n",
    "else:\n",
    "    print(\"Duplicate interactions found:\")\n",
    "\n",
    "duplicate_Proximate.to_csv('Duplicated_Proximate.csv', index_label=False, index=False, encoding='utf-8')\n",
    "\n",
    "#Se dropean los duplicados del mismo set de datos y se guarda el refinado\n",
    "df_Proximate_filt = Proximate.drop_duplicates(subset=['protein_1_seq','protein_2_seq'])\n",
    "df_Proximate_filt.to_csv('Proximate_refined.csv', index_label=False, index=False, encoding='utf-8')\n",
    "    \n",
    "#Se trabaja como dataframe nuevo\n",
    "df_Proximate = pd.DataFrame()\n",
    "df_Proximate['seq_1'] = df_Proximate_filt['protein_1_seq']\n",
    "df_Proximate['seq_2'] = df_Proximate_filt['protein_2_seq']\n",
    "\n",
    "#Se concatenan\n",
    "df_Proximate_unido = pd.concat([df_positivos, df_Proximate], axis=0)\n",
    "\n",
    "#Se conocen los duplicados \n",
    "Proximate_duplicate = df_Proximate_unido[df_Proximate_unido.duplicated(subset=['seq_1', 'seq_2'])]\n",
    "\n",
    "if Proximate_duplicate.empty:\n",
    "    print(\"No duplicate interactions found.\")\n",
    "else:\n",
    "    print(\"Duplicate interactions found:\")\n",
    "    \n",
    "#Se extraen los duplicados\n",
    "columnas_seleccionadas = ['seq_1', 'seq_2']\n",
    "resultado_Proximate = df_positives[columnas_seleccionadas].isin(Proximate_duplicate)\n",
    "filas_con_valores_Proximate = df_positives[resultado_Proximate.any(axis=1)]\n",
    "\n",
    "#Para poner donde se repite\n",
    "filas_con_valores_Proximate['Repetido'] = 'Proximate'\n",
    "filas_con_valores_Proximate.to_csv('Repetidos_binarios_Proximate.csv', index_label=False, index=False, encoding='utf-8')"
   ]
  },
  {
   "cell_type": "markdown",
   "id": "adbf1e34-0081-4557-a3af-61c48747be9d",
   "metadata": {},
   "source": [
    "# Ver repetidos entre ellos"
   ]
  },
  {
   "cell_type": "code",
   "execution_count": 13,
   "id": "0a911713-ff15-453c-96ea-4b1f9c469f9c",
   "metadata": {},
   "outputs": [],
   "source": [
    "a_PDB = pd.read_csv(\"Repetidos_binarios_PDBbind.csv\", sep=',')\n",
    "a_PDB.columns = ['id_1', 'seq_1', 'id_2', 'seq_2', 'dataset', 'Interaccion', 'Repetido']\n",
    "b_Proximate = pd.read_csv(\"Repetidos_binarios_Proximate.csv\", sep=',')\n",
    "b_Proximate.columns = ['id_1', 'seq_1', 'id_2', 'seq_2', 'dataset', 'Interaccion', 'Repetido']\n",
    "c_Skempi = pd.read_csv(\"Repetidos_binarios_Skempi.csv\", sep=',')\n",
    "c_Skempi.columns = ['id_1', 'seq_1', 'id_2', 'seq_2', 'dataset', 'Interaccion', 'Repetido']\n",
    "d_unido = pd.concat([a_PDB, b_Proximate,c_Skempi], axis=0)"
   ]
  },
  {
   "cell_type": "code",
   "execution_count": 14,
   "id": "90474465-bba2-4ae7-a4d5-563b00cb56c6",
   "metadata": {},
   "outputs": [
    {
     "name": "stdout",
     "output_type": "stream",
     "text": [
      "Duplicate interactions found:\n",
      "            id_1                                              seq_1      id_2  \\\n",
      "0     A0A0F6B1Q8  MPLSVGQGYFTSSISSEKFNAIKESARLPELSLWEKIKAYFFTTHH...    P62746   \n",
      "1     A0A0F6B1Q8  MPLSVGQGYFTSSISSEKFNAIKESARLPELSLWEKIKAYFFTTHH...    Q99623   \n",
      "2     A0A0F6B5H5  MERSLDSLAGMAKSAFGAGTSAAMRQATSPKTILEYIINFFTCGGI...    Q9CQC6   \n",
      "3     A0A0H3NF08  MERSLDSLAGMAKSAFGAGTSAAMRQATSPKTILEYIINFFTCGGI...    P05023   \n",
      "4     A0A0H3NF08  MERSLDSLAGMAKSAFGAGTSAAMRQATSPKTILEYIINFFTCGGI...    P05556   \n",
      "...          ...                                                ...       ...   \n",
      "1168      Q9WTX5  MPTIKLQSSDGEIFEVDVEIAKQSVTIKTMLEDLGMDDEGDDDPVP...    Q9WTX6   \n",
      "1169    Q9Y6X9-1  MAFTNYSSLNRAQLTFEYLHTNSTTHEFLFGALAELVDNARDADAT...  Q9Y6X9-1   \n",
      "1170      A7MB62  MDSQGRKVVVCDNGTGFVKCGYAGSNFPEHIFPALVGRPIIRSTTK...    Q3T035   \n",
      "1171      P02605  DEDETTALVCDNGSGLVKAGFAGDDAPRAVFPSIVGRPRHQGVMVG...    P68135   \n",
      "1172      Q148J6  MTATLRPYLSAVRATLQAALCLENFSSQVVERHNKPEVEVRSSKEL...    Q3T035   \n",
      "\n",
      "                                                  seq_2   dataset  \\\n",
      "0     MAAIRKKLVVVGDGACGKTCLLIVFSKDEFPEVYVPTVFENYVADI...      mint   \n",
      "1     MAQNLKDLAGRLPAGPRGMGTALKLLLGAGAVAYGVRESVFTVEGG...      mint   \n",
      "2     MNNQKQQKPTLSGQRFKTRKRDEKERFDPTQFQDCIIQGLTETGTD...      mint   \n",
      "3     MGKGVGRDKYEPAAVSEQGDKKGKKGKKDRDMDELKKEVSMDDHKL...      mint   \n",
      "4     MNLQPIFWIGLISSVCCVFAQTDENRCLKANAKSCGECIQAGPNCG...      mint   \n",
      "...                                                 ...       ...   \n",
      "1168  MSSNRSQNPHGLKQIGLDQIWDDLRAGIQQVYTRQSMAKSRYMELY...    signor   \n",
      "1169  MAFTNYSSLNRAQLTFEYLHTNSTTHEFLFGALAELVDNARDADAT...      mint   \n",
      "1170  MPAYHSSLMDPDTKLIGNMALLPIRSQFKGPAPRETKDTDIVDEAI...  negatome   \n",
      "1171  SKAAADDFKEAFLLFDRTGDAKITASQVGDIARALGQNPTNAEINK...  negatome   \n",
      "1172  MPAYHSSLMDPDTKLIGNMALLPIRSQFKGPAPRETKDTDIVDEAI...  negatome   \n",
      "\n",
      "      Interaccion   Repetido  \n",
      "0               1  Proximate  \n",
      "1               1  Proximate  \n",
      "2               1  Proximate  \n",
      "3               1  Proximate  \n",
      "4               1  Proximate  \n",
      "...           ...        ...  \n",
      "1168            1     Skempi  \n",
      "1169            1     Skempi  \n",
      "1170            0     Skempi  \n",
      "1171            0     Skempi  \n",
      "1172            0     Skempi  \n",
      "\n",
      "[2346 rows x 7 columns]\n"
     ]
    }
   ],
   "source": [
    "d_dupl = d_unido[d_unido.duplicated(subset=['id_1', 'id_2'])]\n",
    "\n",
    "if d_dupl.empty:\n",
    "    print(\"No duplicate interactions found.\")\n",
    "else:\n",
    "    print(\"Duplicate interactions found:\")\n",
    "    print(d_dupl) \n",
    "\n",
    "d_dupl.to_csv('Repetidos_Proximate_Skempi_PDBbind.csv', index_label=False, index=False, encoding='utf-8')\n",
    "\n",
    "drop_dupl = d_unido.drop_duplicates(subset=['id_1', 'id_2'])\n",
    "drop_dupl.to_csv('Proximate_Skempi_PDBbind_refined.csv', index_label=False, index=False, encoding='utf-8')"
   ]
  },
  {
   "cell_type": "markdown",
   "id": "91c1f2f2-f8c7-4e88-80cc-859cbf33691a",
   "metadata": {},
   "source": [
    "## Para ver los Canonicos y eleminar los no canonicos"
   ]
  },
  {
   "cell_type": "code",
   "execution_count": 78,
   "id": "da0e61ed-3e36-4df0-96eb-ff7eee9710a9",
   "metadata": {},
   "outputs": [],
   "source": [
    "import pandas as pd\n",
    "#Ahora veamos el largo del dataframe\n",
    "seq_neg = pd.read_csv(\"unique_seq_binary.csv\", sep=',')\n",
    "\n",
    "# Canonical amino acids (single-letter codes)\n",
    "canonical_amino_acids = set('ACDEFGHIKLMNPQRSTVWY')\n",
    "\n",
    "def has_noncanonical(sequence):\n",
    "    \"\"\"\n",
    "    Checks if a protein sequence contains non-canonical amino acids.\n",
    "    Returns True if non-canonical amino acids are found, False otherwise.\n",
    "    \"\"\"\n",
    "    return any(aa not in canonical_amino_acids for aa in sequence)\n",
    "\n",
    "# Apply the has_noncanonical function to the 'Sequence' column\n",
    "seq_neg['Has_Noncanonical'] = seq_neg['seq'].apply(has_noncanonical)\n",
    "\n",
    "canonical_df = seq_neg.loc[~seq_neg['Has_Noncanonical']]\n",
    "\n",
    "canonical_df.to_csv('Binary_without_canonical_aa.csv', index_label=False, index=False, encoding='utf-8')"
   ]
  },
  {
   "cell_type": "markdown",
   "id": "4d06faa1-f12e-4741-8bc0-655bda43d03a",
   "metadata": {},
   "source": [
    "# Filtrar por largos"
   ]
  },
  {
   "cell_type": "code",
   "execution_count": 79,
   "id": "365ec3d5-cc8f-428d-b69d-b18e6961528f",
   "metadata": {},
   "outputs": [
    {
     "data": {
      "text/html": [
       "<div>\n",
       "<style scoped>\n",
       "    .dataframe tbody tr th:only-of-type {\n",
       "        vertical-align: middle;\n",
       "    }\n",
       "\n",
       "    .dataframe tbody tr th {\n",
       "        vertical-align: top;\n",
       "    }\n",
       "\n",
       "    .dataframe thead th {\n",
       "        text-align: right;\n",
       "    }\n",
       "</style>\n",
       "<table border=\"1\" class=\"dataframe\">\n",
       "  <thead>\n",
       "    <tr style=\"text-align: right;\">\n",
       "      <th></th>\n",
       "      <th>0</th>\n",
       "    </tr>\n",
       "  </thead>\n",
       "  <tbody>\n",
       "    <tr>\n",
       "      <th>count</th>\n",
       "      <td>37351.000000</td>\n",
       "    </tr>\n",
       "    <tr>\n",
       "      <th>mean</th>\n",
       "      <td>434.150545</td>\n",
       "    </tr>\n",
       "    <tr>\n",
       "      <th>std</th>\n",
       "      <td>232.798716</td>\n",
       "    </tr>\n",
       "    <tr>\n",
       "      <th>min</th>\n",
       "      <td>5.000000</td>\n",
       "    </tr>\n",
       "    <tr>\n",
       "      <th>25%</th>\n",
       "      <td>249.000000</td>\n",
       "    </tr>\n",
       "    <tr>\n",
       "      <th>50%</th>\n",
       "      <td>398.000000</td>\n",
       "    </tr>\n",
       "    <tr>\n",
       "      <th>75%</th>\n",
       "      <td>586.000000</td>\n",
       "    </tr>\n",
       "    <tr>\n",
       "      <th>max</th>\n",
       "      <td>1024.000000</td>\n",
       "    </tr>\n",
       "  </tbody>\n",
       "</table>\n",
       "</div>"
      ],
      "text/plain": [
       "                  0\n",
       "count  37351.000000\n",
       "mean     434.150545\n",
       "std      232.798716\n",
       "min        5.000000\n",
       "25%      249.000000\n",
       "50%      398.000000\n",
       "75%      586.000000\n",
       "max     1024.000000"
      ]
     },
     "execution_count": 79,
     "metadata": {},
     "output_type": "execute_result"
    }
   ],
   "source": [
    "seq_biny_CC = pd.read_csv(\"Binary_without_canonical_aa.csv\", sep=',')\n",
    "Large = []\n",
    "for i in range(0,(len(seq_biny_CC))):\n",
    "    if len(seq_biny_CC.iloc[i,1]) <= 1024:\n",
    "        Large.append(len(seq_biny_CC.iloc[i,1]))\n",
    "    else:\n",
    "        None\n",
    "    \n",
    "large_tot = pd.DataFrame(Large)\n",
    "large_tot.describe()"
   ]
  },
  {
   "cell_type": "code",
   "execution_count": 74,
   "id": "9ac20a3d-6679-4a45-a729-733875c0f7fc",
   "metadata": {},
   "outputs": [
    {
     "data": {
      "image/png": "[encoded data removed]",
      "text/plain": [
       "<Figure size 1000x600 with 1 Axes>"
      ]
     },
     "metadata": {},
     "output_type": "display_data"
    }
   ],
   "source": [
    "import matplotlib.pyplot as plt\n",
    "import numpy as np\n",
    "plt.figure(figsize=(10, 6))\n",
    "plt.hist(Large, bins=np.logspace(0, 5, 30), color='skyblue', edgecolor='black')\n",
    "plt.xscale('log')\n",
    "plt.title('Distribution of Protein Lengths (Log Scale)')\n",
    "plt.xlabel('Length')\n",
    "plt.ylabel('Frequency')\n",
    "plt.grid(True)\n",
    "plt.savefig('gauss.png')\n",
    "plt.show()"
   ]
  }
 ],
 "metadata": {
  "kernelspec": {
   "display_name": "Python 3 (ipykernel)",
   "language": "python",
   "name": "python3"
  },
  "language_info": {
   "codemirror_mode": {
    "name": "ipython",
    "version": 3
   },
   "file_extension": ".py",
   "mimetype": "text/x-python",
   "name": "python",
   "nbconvert_exporter": "python",
   "pygments_lexer": "ipython3",
   "version": "3.11.7"
  }
 },
 "nbformat": 4,
 "nbformat_minor": 5
}
